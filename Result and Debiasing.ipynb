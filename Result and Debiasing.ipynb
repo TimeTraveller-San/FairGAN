{
 "cells": [
  {
   "cell_type": "code",
   "execution_count": 14,
   "metadata": {},
   "outputs": [],
   "source": [
    "import gensim\n",
    "import gzip\n",
    "import numpy as np\n",
    "import os\n",
    "import pandas as pd\n",
    "import torch\n",
    "import torch.nn as nn\n",
    "import torch.nn.functional as F\n",
    "from torch.utils.data import Dataset, DataLoader\n",
    "import torch.optim as optim\n",
    "from tqdm import tqdm_notebook as tqdm\n",
    "import pickle\n",
    "import we\n",
    "\n",
    "#Reproducibility\n",
    "SEED = 42 #The answer to everything\n",
    "torch.manual_seed(SEED)\n",
    "np.random.seed(SEED)\n",
    "torch.backends.cudnn.deterministic = True\n",
    "torch.backends.cudnn.benchmark = False"
   ]
  },
  {
   "cell_type": "code",
   "execution_count": 15,
   "metadata": {},
   "outputs": [
    {
     "name": "stdout",
     "output_type": "stream",
     "text": [
      " Adversarial_Training.ipynb  'GANv4 - no random.ipynb'\t  rGANv1.ipynb\r\n",
      " GANv1.5_neighbour.ipynb     'Modify vectors.ipynb'\t  tests\r\n",
      " GANv1.ipynb\t\t     'Ours + Adversarial.ipynb'   we.py\r\n",
      " GANv3_learnOpposite.ipynb    __pycache__\r\n"
     ]
    }
   ],
   "source": [
    "!ls "
   ]
  },
  {
   "cell_type": "code",
   "execution_count": 26,
   "metadata": {},
   "outputs": [],
   "source": [
    "EMB = '../../../Research Work/Gender_Bias/embeddings/glove' "
   ]
  },
  {
   "cell_type": "code",
   "execution_count": 27,
   "metadata": {},
   "outputs": [
    {
     "name": "stdout",
     "output_type": "stream",
     "text": [
      "*** Reading data from ../../../Research Work/Gender_Bias/embeddings/glove\n",
      "Loading numpy format\n",
      "loading ...\n",
      "(322636, 300)\n",
      "322636 words of dimension 300 : the, of, and, in, ..., zuras, zuriel, zyuzin, <unk>\n",
      "322636 words of dimension 300 : the, of, and, in, ..., zuras, zuriel, zyuzin, <unk>\n"
     ]
    }
   ],
   "source": [
    "E = we.WordEmbedding(EMB)"
   ]
  },
  {
   "cell_type": "code",
   "execution_count": 31,
   "metadata": {},
   "outputs": [],
   "source": [
    "# E.v('test')"
   ]
  },
  {
   "cell_type": "markdown",
   "metadata": {},
   "source": [
    "# Helper functions"
   ]
  },
  {
   "cell_type": "code",
   "execution_count": 37,
   "metadata": {},
   "outputs": [],
   "source": [
    "def normalize(v):\n",
    "    return v / np.linalg.norm(v)\n",
    "\n",
    "def get_max(E, g, words):\n",
    "    df = pd.DataFrame(data={\"word\": list(words)})\n",
    "    b = {}\n",
    "    for word in tqdm(words):\n",
    "        b[word] = get_gender_logit(word, E, g)\n",
    "    df['gender_score'] = df.word.map(b) \n",
    "    df.sort_values(by='gender_score', inplace=True)\n",
    "    return df\n",
    "\n",
    "def gender_subspace(E):\n",
    "        pairs = [\n",
    "              (\"woman\", \"man\"),\n",
    "              (\"her\", \"his\"),\n",
    "              (\"she\", \"he\"),\n",
    "              (\"aunt\", \"uncle\"),\n",
    "              (\"niece\", \"nephew\"),\n",
    "              (\"daughters\", \"sons\"),\n",
    "              (\"mother\", \"father\"),\n",
    "              (\"daughter\", \"son\"),\n",
    "              (\"granddaughter\", \"grandson\"),\n",
    "              (\"girl\", \"boy\"),\n",
    "              (\"stepdaughter\", \"stepson\"),\n",
    "              (\"mom\", \"dad\"), ]\n",
    "        difs = []    \n",
    "        for f, m in pairs:\n",
    "            difs.append(E.v(f)- E.v(m))\n",
    "        difs = np.array(difs)\n",
    "        #PCA\n",
    "        difs = np.cov(np.array(difs).T)\n",
    "        evals, evecs = np.linalg.eig(difs)\n",
    "        return normalize(np.real(evecs[:, np.argmax(evals)]))\n",
    "\n",
    "def gender_subspace_simple(E):\n",
    "    return normalize(E.v('she') - E.v('he'))    \n",
    "\n",
    "# def load_words():\n",
    "#     words = []\n",
    "#     with open('w2v_gnews_small.vocab', 'r') as handle:\n",
    "#         for line in handle.readlines():\n",
    "#             words.append(line.strip())\n",
    "#     return words       \n",
    "# words = load_words()\n",
    "\n",
    "file = \"limited_vocab.hila\"\n",
    "with open(file, 'rb') as handle:\n",
    "    words = pickle.load(handle)\n",
    "\n",
    "def get_gender_logit(word, E, g):\n",
    "    return E.v(word).dot(g) \n",
    "\n",
    "def get_gender(word, E, g):\n",
    "    return 1 if E.v(word).dot(g) < 0 else 0 #1 is Male, 0 is female\n",
    "\n",
    "def get_rgender(word, E, g):\n",
    "    return 0 if E.v(word).dot(g) < 0 else 1 #reversed gender\n",
    "\n",
    "def label_to_gender(label):\n",
    "    return 'M' if label else 'F'\n",
    "\n",
    "# g = gender_subspace(E)\n",
    "g = gender_subspace_simple(E)"
   ]
  },
  {
   "cell_type": "markdown",
   "metadata": {},
   "source": [
    "## Clean vocab"
   ]
  },
  {
   "cell_type": "code",
   "execution_count": 39,
   "metadata": {},
   "outputs": [],
   "source": [
    "for w in words:\n",
    "    if w not in E.words:\n",
    "        words.remove(w)"
   ]
  },
  {
   "cell_type": "markdown",
   "metadata": {},
   "source": [
    "# DataLoader"
   ]
  },
  {
   "cell_type": "code",
   "execution_count": 44,
   "metadata": {},
   "outputs": [],
   "source": [
    "class gender_set(Dataset):\n",
    "    def __init__(self, words, E, g, device):\n",
    "        self.words = words\n",
    "        self.embs = torch.Tensor([E.v(w) for w in words]).to(device)\n",
    "        self.gender = torch.Tensor([get_gender(w, E, g) for w in words]).to(device)\n",
    "        self.rgender = torch.Tensor([get_rgender(w, E, g) for w in words]).to(device)\n",
    "        \n",
    "    def __len__(self):\n",
    "        return len(self.words)\n",
    "    \n",
    "    def __getitem__(self, idx):\n",
    "        return self.words[idx], self.embs[idx], self.gender[idx], self.rgender[idx]"
   ]
  },
  {
   "cell_type": "code",
   "execution_count": 45,
   "metadata": {},
   "outputs": [],
   "source": [
    "bs = 128 \n",
    "device = torch.device('cuda' if torch.cuda.is_available() else 'cpu')\n",
    "train_dataset = gender_set(words, E, g, device)\n",
    "train_loader = DataLoader(train_dataset, batch_size=bs, shuffle=True)"
   ]
  },
  {
   "cell_type": "code",
   "execution_count": 46,
   "metadata": {
    "scrolled": true
   },
   "outputs": [
    {
     "name": "stdout",
     "output_type": "stream",
     "text": [
      "grammy tensor(0., device='cuda:0')\n",
      "thinning tensor(0., device='cuda:0')\n",
      "nfb tensor(0., device='cuda:0')\n",
      "denials tensor(1., device='cuda:0')\n",
      "frustration tensor(0., device='cuda:0')\n",
      "schooner tensor(0., device='cuda:0')\n",
      "subtraction tensor(0., device='cuda:0')\n",
      "afield tensor(1., device='cuda:0')\n",
      "foresters tensor(1., device='cuda:0')\n",
      "symmetries tensor(0., device='cuda:0')\n",
      "cinque tensor(0., device='cuda:0')\n",
      "haye tensor(1., device='cuda:0')\n",
      "hubs tensor(0., device='cuda:0')\n",
      "created tensor(1., device='cuda:0')\n",
      "fifths tensor(0., device='cuda:0')\n",
      "biochemistry tensor(1., device='cuda:0')\n",
      "huffington tensor(0., device='cuda:0')\n",
      "monroe tensor(1., device='cuda:0')\n",
      "succulent tensor(0., device='cuda:0')\n",
      "stroke tensor(1., device='cuda:0')\n",
      "organists tensor(1., device='cuda:0')\n",
      "torbay tensor(0., device='cuda:0')\n",
      "wildcat tensor(1., device='cuda:0')\n",
      "forte tensor(0., device='cuda:0')\n",
      "grandis tensor(0., device='cuda:0')\n",
      "mocks tensor(0., device='cuda:0')\n",
      "expenditures tensor(1., device='cuda:0')\n",
      "pataki tensor(1., device='cuda:0')\n",
      "romp tensor(0., device='cuda:0')\n",
      "neurons tensor(1., device='cuda:0')\n",
      "skew tensor(0., device='cuda:0')\n",
      "lindemann tensor(0., device='cuda:0')\n",
      "unprecedented tensor(1., device='cuda:0')\n",
      "dialectal tensor(0., device='cuda:0')\n",
      "spacetime tensor(1., device='cuda:0')\n",
      "enclosures tensor(1., device='cuda:0')\n",
      "briar tensor(0., device='cuda:0')\n",
      "whl tensor(1., device='cuda:0')\n",
      "blueprints tensor(1., device='cuda:0')\n",
      "folks tensor(1., device='cuda:0')\n",
      "shl tensor(1., device='cuda:0')\n",
      "presses tensor(1., device='cuda:0')\n",
      "fallacy tensor(1., device='cuda:0')\n",
      "kailash tensor(0., device='cuda:0')\n",
      "nt tensor(1., device='cuda:0')\n",
      "singaporean tensor(0., device='cuda:0')\n",
      "additional tensor(1., device='cuda:0')\n",
      "alarming tensor(0., device='cuda:0')\n",
      "extradited tensor(1., device='cuda:0')\n",
      "dupage tensor(0., device='cuda:0')\n",
      "spoon tensor(0., device='cuda:0')\n",
      "ibf tensor(1., device='cuda:0')\n",
      "centimeter tensor(1., device='cuda:0')\n",
      "flipper tensor(1., device='cuda:0')\n",
      "conroy tensor(0., device='cuda:0')\n",
      "irc tensor(1., device='cuda:0')\n",
      "south tensor(1., device='cuda:0')\n",
      "tonic tensor(0., device='cuda:0')\n",
      "menswear tensor(0., device='cuda:0')\n",
      "ent tensor(1., device='cuda:0')\n",
      "webster tensor(1., device='cuda:0')\n",
      "moorish tensor(1., device='cuda:0')\n",
      "romans tensor(1., device='cuda:0')\n",
      "necropolis tensor(1., device='cuda:0')\n",
      "gearbox tensor(1., device='cuda:0')\n",
      "scenery tensor(1., device='cuda:0')\n",
      "corrosive tensor(1., device='cuda:0')\n",
      "semester tensor(0., device='cuda:0')\n",
      "prizes tensor(0., device='cuda:0')\n",
      "rupees tensor(1., device='cuda:0')\n",
      "horst tensor(0., device='cuda:0')\n",
      "taranto tensor(0., device='cuda:0')\n",
      "turk tensor(1., device='cuda:0')\n",
      "sancho tensor(1., device='cuda:0')\n",
      "reimbursement tensor(1., device='cuda:0')\n",
      "aca tensor(0., device='cuda:0')\n",
      "bookings tensor(1., device='cuda:0')\n",
      "cdma tensor(0., device='cuda:0')\n",
      "opium tensor(1., device='cuda:0')\n",
      "killed tensor(1., device='cuda:0')\n",
      "trill tensor(0., device='cuda:0')\n",
      "sanders tensor(1., device='cuda:0')\n",
      "favoured tensor(1., device='cuda:0')\n",
      "silhouette tensor(0., device='cuda:0')\n",
      "charlie tensor(1., device='cuda:0')\n",
      "wozniak tensor(1., device='cuda:0')\n",
      "playhouse tensor(0., device='cuda:0')\n",
      "sternum tensor(0., device='cuda:0')\n",
      "stomp tensor(0., device='cuda:0')\n",
      "cow tensor(1., device='cuda:0')\n",
      "motley tensor(1., device='cuda:0')\n",
      "uncanny tensor(1., device='cuda:0')\n",
      "stripping tensor(0., device='cuda:0')\n",
      "apse tensor(0., device='cuda:0')\n",
      "sexy tensor(0., device='cuda:0')\n",
      "terrance tensor(0., device='cuda:0')\n",
      "interfered tensor(1., device='cuda:0')\n",
      "advance tensor(1., device='cuda:0')\n",
      "looks tensor(0., device='cuda:0')\n",
      "mukesh tensor(0., device='cuda:0')\n",
      "aquitaine tensor(0., device='cuda:0')\n",
      "sayings tensor(1., device='cuda:0')\n",
      "toho tensor(1., device='cuda:0')\n",
      "husayn tensor(1., device='cuda:0')\n",
      "rhee tensor(0., device='cuda:0')\n",
      "volk tensor(1., device='cuda:0')\n",
      "watercolors tensor(0., device='cuda:0')\n",
      "configured tensor(0., device='cuda:0')\n",
      "naïve tensor(0., device='cuda:0')\n",
      "lorentz tensor(1., device='cuda:0')\n",
      "rations tensor(1., device='cuda:0')\n",
      "surprising tensor(1., device='cuda:0')\n",
      "smarter tensor(1., device='cuda:0')\n",
      "carlow tensor(1., device='cuda:0')\n",
      "dispose tensor(1., device='cuda:0')\n",
      "pupation tensor(1., device='cuda:0')\n",
      "doctors tensor(0., device='cuda:0')\n",
      "respondents tensor(0., device='cuda:0')\n",
      "augustin tensor(1., device='cuda:0')\n",
      "cotta tensor(1., device='cuda:0')\n",
      "flats tensor(1., device='cuda:0')\n",
      "jointly tensor(1., device='cuda:0')\n",
      "decomposing tensor(0., device='cuda:0')\n",
      "nevada tensor(1., device='cuda:0')\n",
      "communicating tensor(0., device='cuda:0')\n",
      "occurrences tensor(1., device='cuda:0')\n",
      "walmart tensor(1., device='cuda:0')\n",
      "plunging tensor(1., device='cuda:0')\n"
     ]
    }
   ],
   "source": [
    "# test dataloader\n",
    "for i, (word, emb, gender, rgender) in enumerate(train_loader):\n",
    "    for w, gen in zip(word, gender):\n",
    "        print(w, gen.data)\n",
    "    break    "
   ]
  },
  {
   "cell_type": "markdown",
   "metadata": {},
   "source": [
    "# GAN\n",
    "### Generator"
   ]
  },
  {
   "cell_type": "code",
   "execution_count": 47,
   "metadata": {},
   "outputs": [],
   "source": [
    "class Generator(nn.Module):\n",
    "    def __init__(self, nz):\n",
    "        super().__init__()\n",
    "        self.fc1 = nn.Linear(nz, 300)\n",
    "        self.act = nn.LeakyReLU()\n",
    "        self.model = nn.Sequential(\n",
    "            nn.Linear(600, 1024),\n",
    "            nn.LeakyReLU(),\n",
    "            nn.Linear(1024, 512),\n",
    "            nn.LeakyReLU(),\n",
    "            nn.Linear(512, 300),\n",
    "        )\n",
    "    \n",
    "    def forward(self, z, c):\n",
    "        x = self.act(self.fc1(z))\n",
    "        x = torch.cat([x, c], dim=1)\n",
    "        x = self.model(x)\n",
    "        return x / torch.norm(x) #return normalized embedding\n",
    "\n",
    "# netG = Generator(z_dim)\n",
    "# z = torch.randn((z_dim))\n",
    "# netG(z, torch.Tensor(E['man']))"
   ]
  },
  {
   "cell_type": "markdown",
   "metadata": {},
   "source": [
    "### Discriminator"
   ]
  },
  {
   "cell_type": "code",
   "execution_count": 48,
   "metadata": {},
   "outputs": [],
   "source": [
    "class Discriminator(nn.Module):\n",
    "    def __init__(self):\n",
    "        super().__init__()\n",
    "        self.model = nn.Sequential(\n",
    "            nn.Linear(300, 1024),\n",
    "            nn.LeakyReLU(),\n",
    "            nn.Linear(1024, 512),\n",
    "            nn.LeakyReLU(),\n",
    "            nn.Linear(512, 256),\n",
    "            nn.LeakyReLU(),\n",
    "            nn.Linear(256, 1),\n",
    "        )\n",
    "        self.sig = nn.Sigmoid()\n",
    "    \n",
    "    def forward(self, x):\n",
    "        x = self.model(x)\n",
    "        return self.sig(x).squeeze()\n",
    "\n",
    "# d = Discriminator()\n",
    "# d.forward(torch.Tensor(E['test']))    "
   ]
  },
  {
   "cell_type": "markdown",
   "metadata": {},
   "source": [
    "### Hyperparameters"
   ]
  },
  {
   "cell_type": "code",
   "execution_count": 53,
   "metadata": {},
   "outputs": [],
   "source": [
    "nz = 128\n",
    "lrd = 1e-3\n",
    "lrg = 1e-2\n",
    "beta1 = 0.5\n",
    "epochs = 1000\n",
    "\n",
    "device = torch.device('cuda' if torch.cuda.is_available() else 'cpu')\n",
    "train_dataset = gender_set(words, E, g, device)\n",
    "train_loader = DataLoader(train_dataset, batch_size=bs, shuffle=True)\n",
    "\n",
    "netG = Generator(nz).to(device)\n",
    "netD = Discriminator().to(device)\n",
    "\n",
    "criterion1 = nn.BCELoss()\n",
    "criterion2 = nn.MSELoss()\n",
    "\n",
    "optimizerD = optim.Adam(netD.parameters(), lr=lrd, betas=(beta1, 0.999))\n",
    "optimizerG = optim.Adam(netG.parameters(), lr=lrg, betas=(beta1, 0.999))\n",
    "\n",
    "z = torch.randn(bs, nz, device=device) #Fixed noise\n",
    "\n",
    "def get_new_emb(word, netG):\n",
    "    return netG(z[0].unsqueeze(dim=0), torch.Tensor(E.v(word)).unsqueeze(dim=0).to(device))\n",
    "\n",
    "def test_generator(netG, g, device):\n",
    "    with torch.no_grad():\n",
    "        word_list = \"nanny engineer warrior boss midwife\".split()\n",
    "        for word in word_list:\n",
    "            orig = torch.Tensor(E.v(word)).to(device)\n",
    "            new = get_new_emb(word, netG).squeeze()\n",
    "            similarity = new.dot(orig)\n",
    "            bias_bef = orig.dot(torch.Tensor(g).to(device))\n",
    "            bias_aft = new.dot(torch.Tensor(g).to(device))        \n",
    "            print(f\"Word: {word} Similarity: {similarity:.5f} | Bias: {bias_bef:.5f} / {bias_aft:.5f}\")"
   ]
  },
  {
   "cell_type": "markdown",
   "metadata": {},
   "source": [
    "### Train"
   ]
  },
  {
   "cell_type": "code",
   "execution_count": 54,
   "metadata": {
    "scrolled": true
   },
   "outputs": [
    {
     "data": {
      "application/vnd.jupyter.widget-view+json": {
       "model_id": "d05392dfe4c34630b5c36e60e5cb539c",
       "version_major": 2,
       "version_minor": 0
      },
      "text/plain": [
       "HBox(children=(IntProgress(value=0, max=1000), HTML(value='')))"
      ]
     },
     "metadata": {},
     "output_type": "display_data"
    },
    {
     "name": "stdout",
     "output_type": "stream",
     "text": [
      "Epoch: [10 / 1000]\n",
      "errD_real: 0.000 | errD_fake: 0.477 | errG_gender: 1.681 | errG_meaning: -0.39314\n",
      "Word: nanny Similarity: -0.80370 | Bias: 0.17054 / 0.05542\n",
      "Word: engineer Similarity: -0.90484 | Bias: -0.16721 / 0.04978\n",
      "Word: warrior Similarity: -0.87669 | Bias: 0.05222 / 0.04493\n",
      "Word: boss Similarity: -0.87149 | Bias: -0.04070 / 0.04463\n",
      "Word: midwife Similarity: -0.82738 | Bias: 0.22603 / 0.04563\n",
      "Epoch: [20 / 1000]\n",
      "errD_real: 0.020 | errD_fake: 0.359 | errG_gender: 2.781 | errG_meaning: -0.46177\n",
      "Word: nanny Similarity: -0.91903 | Bias: 0.17054 / 0.04824\n",
      "Word: engineer Similarity: -0.95964 | Bias: -0.16721 / 0.02759\n",
      "Word: warrior Similarity: -0.95735 | Bias: 0.05222 / 0.03855\n",
      "Word: boss Similarity: -0.95839 | Bias: -0.04070 / 0.03610\n",
      "Word: midwife Similarity: -0.90989 | Bias: 0.22603 / 0.04021\n",
      "Epoch: [30 / 1000]\n",
      "errD_real: 0.016 | errD_fake: 0.179 | errG_gender: 5.889 | errG_meaning: -0.47133\n",
      "Word: nanny Similarity: -0.93658 | Bias: 0.17054 / 0.04347\n",
      "Word: engineer Similarity: -0.96558 | Bias: -0.16721 / 0.02928\n",
      "Word: warrior Similarity: -0.96857 | Bias: 0.05222 / 0.03573\n",
      "Word: boss Similarity: -0.96976 | Bias: -0.04070 / 0.03031\n",
      "Word: midwife Similarity: -0.92410 | Bias: 0.22603 / 0.04076\n",
      "Epoch: [40 / 1000]\n",
      "errD_real: 0.000 | errD_fake: 0.245 | errG_gender: 6.777 | errG_meaning: -0.43960\n",
      "Word: nanny Similarity: -0.93209 | Bias: 0.17054 / -0.00714\n",
      "Word: engineer Similarity: -0.95040 | Bias: -0.16721 / -0.00712\n",
      "Word: warrior Similarity: -0.96274 | Bias: 0.05222 / 0.00153\n",
      "Word: boss Similarity: -0.95866 | Bias: -0.04070 / -0.00209\n",
      "Word: midwife Similarity: -0.92693 | Bias: 0.22603 / -0.01246\n",
      "Epoch: [50 / 1000]\n",
      "errD_real: 0.004 | errD_fake: 0.049 | errG_gender: 8.443 | errG_meaning: -0.48206\n",
      "Word: nanny Similarity: -0.92879 | Bias: 0.17054 / 0.04859\n",
      "Word: engineer Similarity: -0.95858 | Bias: -0.16721 / 0.03044\n",
      "Word: warrior Similarity: -0.96159 | Bias: 0.05222 / 0.04365\n",
      "Word: boss Similarity: -0.96471 | Bias: -0.04070 / 0.04528\n",
      "Word: midwife Similarity: -0.91549 | Bias: 0.22603 / 0.04833\n",
      "Epoch: [60 / 1000]\n",
      "errD_real: 0.000 | errD_fake: 0.154 | errG_gender: 12.083 | errG_meaning: -0.48303\n",
      "Word: nanny Similarity: -0.95411 | Bias: 0.17054 / 0.02479\n",
      "Word: engineer Similarity: -0.97231 | Bias: -0.16721 / 0.02329\n",
      "Word: warrior Similarity: -0.97794 | Bias: 0.05222 / 0.02407\n",
      "Word: boss Similarity: -0.97924 | Bias: -0.04070 / 0.02318\n",
      "Word: midwife Similarity: -0.93714 | Bias: 0.22603 / 0.03162\n",
      "Epoch: [70 / 1000]\n",
      "errD_real: 0.006 | errD_fake: 0.110 | errG_gender: 11.012 | errG_meaning: -0.49074\n",
      "Word: nanny Similarity: -0.95656 | Bias: 0.17054 / 0.02471\n",
      "Word: engineer Similarity: -0.97368 | Bias: -0.16721 / 0.02261\n",
      "Word: warrior Similarity: -0.98035 | Bias: 0.05222 / 0.02851\n",
      "Word: boss Similarity: -0.98254 | Bias: -0.04070 / 0.02430\n",
      "Word: midwife Similarity: -0.94013 | Bias: 0.22603 / 0.03356\n",
      "Epoch: [80 / 1000]\n",
      "errD_real: 0.000 | errD_fake: 0.069 | errG_gender: 11.927 | errG_meaning: -0.49228\n",
      "Word: nanny Similarity: -0.96069 | Bias: 0.17054 / 0.01781\n",
      "Word: engineer Similarity: -0.97362 | Bias: -0.16721 / 0.01976\n",
      "Word: warrior Similarity: -0.97986 | Bias: 0.05222 / 0.02668\n",
      "Word: boss Similarity: -0.98300 | Bias: -0.04070 / 0.01775\n",
      "Word: midwife Similarity: -0.94555 | Bias: 0.22603 / 0.02336\n",
      "Epoch: [90 / 1000]\n",
      "errD_real: 0.000 | errD_fake: 0.074 | errG_gender: 12.031 | errG_meaning: -0.49146\n",
      "Word: nanny Similarity: -0.96073 | Bias: 0.17054 / 0.02290\n",
      "Word: engineer Similarity: -0.97410 | Bias: -0.16721 / 0.01601\n",
      "Word: warrior Similarity: -0.98303 | Bias: 0.05222 / 0.02353\n",
      "Word: boss Similarity: -0.98480 | Bias: -0.04070 / 0.02101\n",
      "Word: midwife Similarity: -0.94855 | Bias: 0.22603 / 0.02043\n",
      "Epoch: [100 / 1000]\n",
      "errD_real: 0.001 | errD_fake: 0.123 | errG_gender: 11.945 | errG_meaning: -0.46631\n",
      "Word: nanny Similarity: -0.95400 | Bias: 0.17054 / -0.00367\n",
      "Word: engineer Similarity: -0.96374 | Bias: -0.16721 / -0.00419\n",
      "Word: warrior Similarity: -0.98054 | Bias: 0.05222 / -0.00494\n",
      "Word: boss Similarity: -0.97715 | Bias: -0.04070 / -0.00039\n",
      "Word: midwife Similarity: -0.94999 | Bias: 0.22603 / -0.01208\n",
      "Epoch: [110 / 1000]\n",
      "errD_real: 0.000 | errD_fake: 0.089 | errG_gender: 13.113 | errG_meaning: -0.50312\n",
      "Word: nanny Similarity: -0.96254 | Bias: 0.17054 / 0.02958\n",
      "Word: engineer Similarity: -0.97635 | Bias: -0.16721 / 0.01786\n",
      "Word: warrior Similarity: -0.98598 | Bias: 0.05222 / 0.02513\n",
      "Word: boss Similarity: -0.98733 | Bias: -0.04070 / 0.02153\n",
      "Word: midwife Similarity: -0.94932 | Bias: 0.22603 / 0.02654\n",
      "Epoch: [120 / 1000]\n",
      "errD_real: 0.000 | errD_fake: 0.162 | errG_gender: 11.279 | errG_meaning: -0.50101\n",
      "Word: nanny Similarity: -0.96621 | Bias: 0.17054 / 0.01711\n",
      "Word: engineer Similarity: -0.97722 | Bias: -0.16721 / 0.01987\n",
      "Word: warrior Similarity: -0.98873 | Bias: 0.05222 / 0.01792\n",
      "Word: boss Similarity: -0.98790 | Bias: -0.04070 / 0.01973\n",
      "Word: midwife Similarity: -0.95203 | Bias: 0.22603 / 0.02584\n",
      "Epoch: [130 / 1000]\n",
      "errD_real: 0.000 | errD_fake: 0.039 | errG_gender: 14.138 | errG_meaning: -0.49631\n",
      "Word: nanny Similarity: -0.97378 | Bias: 0.17054 / -0.03241\n",
      "Word: engineer Similarity: -0.97089 | Bias: -0.16721 / -0.01510\n",
      "Word: warrior Similarity: -0.99020 | Bias: 0.05222 / -0.01816\n",
      "Word: boss Similarity: -0.98615 | Bias: -0.04070 / -0.01639\n",
      "Word: midwife Similarity: -0.96478 | Bias: 0.22603 / -0.02637\n",
      "Epoch: [140 / 1000]\n",
      "errD_real: 0.000 | errD_fake: 0.018 | errG_gender: 14.728 | errG_meaning: -0.49747\n",
      "Word: nanny Similarity: -0.95513 | Bias: 0.17054 / 0.02329\n",
      "Word: engineer Similarity: -0.97014 | Bias: -0.16721 / 0.03347\n",
      "Word: warrior Similarity: -0.98087 | Bias: 0.05222 / 0.02876\n",
      "Word: boss Similarity: -0.98143 | Bias: -0.04070 / 0.03028\n",
      "Word: midwife Similarity: -0.94137 | Bias: 0.22603 / 0.03622\n",
      "Epoch: [150 / 1000]\n",
      "errD_real: 0.000 | errD_fake: 0.039 | errG_gender: 14.000 | errG_meaning: -0.49934\n",
      "Word: nanny Similarity: -0.96696 | Bias: 0.17054 / -0.03561\n",
      "Word: engineer Similarity: -0.96410 | Bias: -0.16721 / -0.02213\n",
      "Word: warrior Similarity: -0.98629 | Bias: 0.05222 / -0.02426\n",
      "Word: boss Similarity: -0.98246 | Bias: -0.04070 / -0.02197\n",
      "Word: midwife Similarity: -0.95904 | Bias: 0.22603 / -0.03069\n",
      "Epoch: [160 / 1000]\n",
      "errD_real: 0.000 | errD_fake: 0.019 | errG_gender: 16.917 | errG_meaning: -0.50493\n",
      "Word: nanny Similarity: -0.96991 | Bias: 0.17054 / 0.01203\n",
      "Word: engineer Similarity: -0.97782 | Bias: -0.16721 / 0.01353\n",
      "Word: warrior Similarity: -0.98919 | Bias: 0.05222 / 0.01877\n",
      "Word: boss Similarity: -0.99008 | Bias: -0.04070 / 0.01563\n",
      "Word: midwife Similarity: -0.95658 | Bias: 0.22603 / 0.01912\n",
      "Epoch: [170 / 1000]\n",
      "errD_real: 0.000 | errD_fake: 0.026 | errG_gender: 14.160 | errG_meaning: -0.50734\n",
      "Word: nanny Similarity: -0.96088 | Bias: 0.17054 / 0.02533\n",
      "Word: engineer Similarity: -0.97360 | Bias: -0.16721 / 0.01972\n",
      "Word: warrior Similarity: -0.98368 | Bias: 0.05222 / 0.03305\n",
      "Word: boss Similarity: -0.98553 | Bias: -0.04070 / 0.02636\n",
      "Word: midwife Similarity: -0.94786 | Bias: 0.22603 / 0.03104\n",
      "Epoch: [180 / 1000]\n",
      "errD_real: 0.000 | errD_fake: 0.035 | errG_gender: 14.203 | errG_meaning: -0.50394\n",
      "Word: nanny Similarity: -0.97135 | Bias: 0.17054 / 0.00998\n",
      "Word: engineer Similarity: -0.97922 | Bias: -0.16721 / 0.01518\n",
      "Word: warrior Similarity: -0.98948 | Bias: 0.05222 / 0.01877\n",
      "Word: boss Similarity: -0.99141 | Bias: -0.04070 / 0.01647\n",
      "Word: midwife Similarity: -0.95825 | Bias: 0.22603 / 0.01519\n",
      "Epoch: [190 / 1000]\n",
      "errD_real: 0.000 | errD_fake: 0.111 | errG_gender: 14.007 | errG_meaning: -0.50040\n",
      "Word: nanny Similarity: -0.97536 | Bias: 0.17054 / -0.01283\n",
      "Word: engineer Similarity: -0.97595 | Bias: -0.16721 / -0.01042\n",
      "Word: warrior Similarity: -0.99241 | Bias: 0.05222 / -0.01365\n",
      "Word: boss Similarity: -0.99052 | Bias: -0.04070 / -0.01258\n",
      "Word: midwife Similarity: -0.96425 | Bias: 0.22603 / -0.01004\n",
      "Epoch: [200 / 1000]\n",
      "errD_real: 0.000 | errD_fake: 0.197 | errG_gender: 16.622 | errG_meaning: -0.50763\n",
      "Word: nanny Similarity: -0.96172 | Bias: 0.17054 / 0.03452\n",
      "Word: engineer Similarity: -0.97586 | Bias: -0.16721 / 0.01799\n",
      "Word: warrior Similarity: -0.98703 | Bias: 0.05222 / 0.02459\n",
      "Word: boss Similarity: -0.98738 | Bias: -0.04070 / 0.02669\n",
      "Word: midwife Similarity: -0.95060 | Bias: 0.22603 / 0.02852\n",
      "Epoch: [210 / 1000]\n",
      "errD_real: 0.000 | errD_fake: 0.003 | errG_gender: 16.824 | errG_meaning: -0.50272\n",
      "Word: nanny Similarity: -0.97208 | Bias: 0.17054 / -0.03294\n",
      "Word: engineer Similarity: -0.96897 | Bias: -0.16721 / -0.01948\n",
      "Word: warrior Similarity: -0.98949 | Bias: 0.05222 / -0.02570\n",
      "Word: boss Similarity: -0.98518 | Bias: -0.04070 / -0.02046\n",
      "Word: midwife Similarity: -0.96294 | Bias: 0.22603 / -0.03179\n"
     ]
    },
    {
     "name": "stdout",
     "output_type": "stream",
     "text": [
      "Epoch: [220 / 1000]\n",
      "errD_real: 0.000 | errD_fake: 0.102 | errG_gender: 16.276 | errG_meaning: -0.50822\n",
      "Word: nanny Similarity: -0.97229 | Bias: 0.17054 / 0.01148\n",
      "Word: engineer Similarity: -0.98055 | Bias: -0.16721 / 0.01693\n",
      "Word: warrior Similarity: -0.99134 | Bias: 0.05222 / 0.01723\n",
      "Word: boss Similarity: -0.99220 | Bias: -0.04070 / 0.01830\n",
      "Word: midwife Similarity: -0.96008 | Bias: 0.22603 / 0.01514\n",
      "Epoch: [230 / 1000]\n",
      "errD_real: 0.000 | errD_fake: 0.008 | errG_gender: 15.157 | errG_meaning: -0.49117\n",
      "Word: nanny Similarity: -0.97124 | Bias: 0.17054 / -0.00814\n",
      "Word: engineer Similarity: -0.97269 | Bias: -0.16721 / -0.00358\n",
      "Word: warrior Similarity: -0.98983 | Bias: 0.05222 / -0.00331\n",
      "Word: boss Similarity: -0.98815 | Bias: -0.04070 / -0.00476\n",
      "Word: midwife Similarity: -0.95918 | Bias: 0.22603 / -0.00588\n",
      "Epoch: [240 / 1000]\n",
      "errD_real: 0.000 | errD_fake: 0.102 | errG_gender: 14.341 | errG_meaning: -0.50824\n",
      "Word: nanny Similarity: -0.97272 | Bias: 0.17054 / 0.01607\n",
      "Word: engineer Similarity: -0.97960 | Bias: -0.16721 / 0.01043\n",
      "Word: warrior Similarity: -0.99226 | Bias: 0.05222 / 0.01222\n",
      "Word: boss Similarity: -0.99194 | Bias: -0.04070 / 0.01414\n",
      "Word: midwife Similarity: -0.96004 | Bias: 0.22603 / 0.01748\n",
      "Epoch: [250 / 1000]\n",
      "errD_real: 0.000 | errD_fake: 0.004 | errG_gender: 16.031 | errG_meaning: -0.50997\n",
      "Word: nanny Similarity: -0.97348 | Bias: 0.17054 / 0.01574\n",
      "Word: engineer Similarity: -0.98026 | Bias: -0.16721 / 0.01515\n",
      "Word: warrior Similarity: -0.99250 | Bias: 0.05222 / 0.01432\n",
      "Word: boss Similarity: -0.99240 | Bias: -0.04070 / 0.01626\n",
      "Word: midwife Similarity: -0.96168 | Bias: 0.22603 / 0.01147\n",
      "Epoch: [260 / 1000]\n",
      "errD_real: 0.000 | errD_fake: 0.004 | errG_gender: 18.461 | errG_meaning: -0.50703\n",
      "Word: nanny Similarity: -0.97747 | Bias: 0.17054 / -0.01208\n",
      "Word: engineer Similarity: -0.97668 | Bias: -0.16721 / -0.01021\n",
      "Word: warrior Similarity: -0.99328 | Bias: 0.05222 / -0.01378\n",
      "Word: boss Similarity: -0.99093 | Bias: -0.04070 / -0.01277\n",
      "Word: midwife Similarity: -0.96593 | Bias: 0.22603 / -0.01190\n",
      "Epoch: [270 / 1000]\n",
      "errD_real: 0.000 | errD_fake: 0.109 | errG_gender: 20.431 | errG_meaning: -0.50856\n",
      "Word: nanny Similarity: -0.97426 | Bias: 0.17054 / 0.01313\n",
      "Word: engineer Similarity: -0.98051 | Bias: -0.16721 / 0.01189\n",
      "Word: warrior Similarity: -0.99319 | Bias: 0.05222 / 0.01183\n",
      "Word: boss Similarity: -0.99258 | Bias: -0.04070 / 0.01283\n",
      "Word: midwife Similarity: -0.96086 | Bias: 0.22603 / 0.01217\n",
      "Epoch: [280 / 1000]\n",
      "errD_real: 0.000 | errD_fake: 0.037 | errG_gender: 17.521 | errG_meaning: -0.50775\n",
      "Word: nanny Similarity: -0.97638 | Bias: 0.17054 / 0.00218\n",
      "Word: engineer Similarity: -0.98092 | Bias: -0.16721 / 0.00866\n",
      "Word: warrior Similarity: -0.99239 | Bias: 0.05222 / 0.00942\n",
      "Word: boss Similarity: -0.99250 | Bias: -0.04070 / 0.00910\n",
      "Word: midwife Similarity: -0.96248 | Bias: 0.22603 / 0.00935\n",
      "Epoch: [290 / 1000]\n",
      "errD_real: 0.000 | errD_fake: 0.019 | errG_gender: 16.870 | errG_meaning: -0.51149\n",
      "Word: nanny Similarity: -0.97983 | Bias: 0.17054 / -0.01811\n",
      "Word: engineer Similarity: -0.97835 | Bias: -0.16721 / -0.00749\n",
      "Word: warrior Similarity: -0.99417 | Bias: 0.05222 / -0.01287\n",
      "Word: boss Similarity: -0.99165 | Bias: -0.04070 / -0.00899\n",
      "Word: midwife Similarity: -0.96711 | Bias: 0.22603 / -0.01516\n",
      "Epoch: [300 / 1000]\n",
      "errD_real: 0.000 | errD_fake: 0.116 | errG_gender: 17.288 | errG_meaning: -0.51086\n",
      "Word: nanny Similarity: -0.97538 | Bias: 0.17054 / 0.01114\n",
      "Word: engineer Similarity: -0.98161 | Bias: -0.16721 / 0.01494\n",
      "Word: warrior Similarity: -0.99234 | Bias: 0.05222 / 0.01129\n",
      "Word: boss Similarity: -0.99140 | Bias: -0.04070 / 0.01287\n",
      "Word: midwife Similarity: -0.96090 | Bias: 0.22603 / 0.01499\n",
      "Epoch: [310 / 1000]\n",
      "errD_real: 0.000 | errD_fake: 0.002 | errG_gender: 17.368 | errG_meaning: -0.50648\n",
      "Word: nanny Similarity: -0.97885 | Bias: 0.17054 / -0.01622\n",
      "Word: engineer Similarity: -0.97774 | Bias: -0.16721 / -0.01197\n",
      "Word: warrior Similarity: -0.99402 | Bias: 0.05222 / -0.01360\n",
      "Word: boss Similarity: -0.99112 | Bias: -0.04070 / -0.01203\n",
      "Word: midwife Similarity: -0.96749 | Bias: 0.22603 / -0.01275\n",
      "Epoch: [320 / 1000]\n",
      "errD_real: 0.000 | errD_fake: 0.014 | errG_gender: 16.117 | errG_meaning: -0.51237\n",
      "Word: nanny Similarity: -0.97887 | Bias: 0.17054 / -0.01140\n",
      "Word: engineer Similarity: -0.97694 | Bias: -0.16721 / -0.01168\n",
      "Word: warrior Similarity: -0.99309 | Bias: 0.05222 / -0.00994\n",
      "Word: boss Similarity: -0.99043 | Bias: -0.04070 / -0.00764\n",
      "Word: midwife Similarity: -0.96826 | Bias: 0.22603 / -0.01404\n",
      "Epoch: [330 / 1000]\n",
      "errD_real: 0.000 | errD_fake: 0.015 | errG_gender: 18.343 | errG_meaning: -0.51014\n",
      "Word: nanny Similarity: -0.97869 | Bias: 0.17054 / -0.00922\n",
      "Word: engineer Similarity: -0.97913 | Bias: -0.16721 / -0.00714\n",
      "Word: warrior Similarity: -0.99414 | Bias: 0.05222 / -0.01017\n",
      "Word: boss Similarity: -0.99194 | Bias: -0.04070 / -0.00540\n",
      "Word: midwife Similarity: -0.96705 | Bias: 0.22603 / -0.00760\n",
      "Epoch: [340 / 1000]\n",
      "errD_real: 0.000 | errD_fake: 0.118 | errG_gender: 19.269 | errG_meaning: -0.51365\n",
      "Word: nanny Similarity: -0.97439 | Bias: 0.17054 / 0.01516\n",
      "Word: engineer Similarity: -0.98212 | Bias: -0.16721 / 0.00775\n",
      "Word: warrior Similarity: -0.99327 | Bias: 0.05222 / 0.00975\n",
      "Word: boss Similarity: -0.99225 | Bias: -0.04070 / 0.01320\n",
      "Word: midwife Similarity: -0.96260 | Bias: 0.22603 / 0.01146\n",
      "Epoch: [350 / 1000]\n",
      "errD_real: 0.000 | errD_fake: 0.000 | errG_gender: 17.537 | errG_meaning: -0.51262\n",
      "Word: nanny Similarity: -0.97551 | Bias: 0.17054 / 0.01244\n",
      "Word: engineer Similarity: -0.98128 | Bias: -0.16721 / 0.00870\n",
      "Word: warrior Similarity: -0.99336 | Bias: 0.05222 / 0.01056\n",
      "Word: boss Similarity: -0.99289 | Bias: -0.04070 / 0.01128\n",
      "Word: midwife Similarity: -0.96277 | Bias: 0.22603 / 0.01287\n",
      "Epoch: [360 / 1000]\n",
      "errD_real: 0.000 | errD_fake: 0.000 | errG_gender: 18.243 | errG_meaning: -0.51272\n",
      "Word: nanny Similarity: -0.97956 | Bias: 0.17054 / -0.01411\n",
      "Word: engineer Similarity: -0.97867 | Bias: -0.16721 / -0.00972\n",
      "Word: warrior Similarity: -0.99457 | Bias: 0.05222 / -0.00780\n",
      "Word: boss Similarity: -0.99127 | Bias: -0.04070 / -0.00659\n",
      "Word: midwife Similarity: -0.96804 | Bias: 0.22603 / -0.01132\n",
      "Epoch: [370 / 1000]\n",
      "errD_real: 0.000 | errD_fake: 0.002 | errG_gender: 19.341 | errG_meaning: -0.51325\n",
      "Word: nanny Similarity: -0.98097 | Bias: 0.17054 / -0.01580\n",
      "Word: engineer Similarity: -0.97961 | Bias: -0.16721 / -0.00807\n",
      "Word: warrior Similarity: -0.99508 | Bias: 0.05222 / -0.01297\n",
      "Word: boss Similarity: -0.99181 | Bias: -0.04070 / -0.01338\n",
      "Word: midwife Similarity: -0.96881 | Bias: 0.22603 / -0.01040\n",
      "Epoch: [380 / 1000]\n",
      "errD_real: 0.000 | errD_fake: 0.013 | errG_gender: 17.155 | errG_meaning: -0.51426\n",
      "Word: nanny Similarity: -0.97568 | Bias: 0.17054 / 0.00927\n",
      "Word: engineer Similarity: -0.98205 | Bias: -0.16721 / 0.00674\n",
      "Word: warrior Similarity: -0.99383 | Bias: 0.05222 / 0.00878\n",
      "Word: boss Similarity: -0.99308 | Bias: -0.04070 / 0.01002\n",
      "Word: midwife Similarity: -0.96299 | Bias: 0.22603 / 0.01012\n",
      "Epoch: [390 / 1000]\n",
      "errD_real: 0.000 | errD_fake: 0.009 | errG_gender: 19.395 | errG_meaning: -0.51416\n",
      "Word: nanny Similarity: -0.97963 | Bias: 0.17054 / -0.01107\n",
      "Word: engineer Similarity: -0.97964 | Bias: -0.16721 / -0.00853\n",
      "Word: warrior Similarity: -0.99421 | Bias: 0.05222 / -0.00766\n",
      "Word: boss Similarity: -0.99262 | Bias: -0.04070 / -0.00694\n",
      "Word: midwife Similarity: -0.96907 | Bias: 0.22603 / -0.01210\n",
      "Epoch: [400 / 1000]\n",
      "errD_real: 0.000 | errD_fake: 0.001 | errG_gender: 20.360 | errG_meaning: -0.51502\n",
      "Word: nanny Similarity: -0.97756 | Bias: 0.17054 / 0.00427\n",
      "Word: engineer Similarity: -0.98204 | Bias: -0.16721 / 0.01082\n",
      "Word: warrior Similarity: -0.99392 | Bias: 0.05222 / 0.01002\n",
      "Word: boss Similarity: -0.99376 | Bias: -0.04070 / 0.00828\n",
      "Word: midwife Similarity: -0.96508 | Bias: 0.22603 / 0.00617\n",
      "Epoch: [410 / 1000]\n",
      "errD_real: 0.000 | errD_fake: 0.019 | errG_gender: 18.235 | errG_meaning: -0.51656\n",
      "Word: nanny Similarity: -0.98150 | Bias: 0.17054 / -0.01571\n",
      "Word: engineer Similarity: -0.97958 | Bias: -0.16721 / -0.01029\n",
      "Word: warrior Similarity: -0.99535 | Bias: 0.05222 / -0.00757\n",
      "Word: boss Similarity: -0.99380 | Bias: -0.04070 / -0.00535\n",
      "Word: midwife Similarity: -0.97006 | Bias: 0.22603 / -0.01508\n",
      "Epoch: [420 / 1000]\n",
      "errD_real: 0.000 | errD_fake: 0.000 | errG_gender: 18.824 | errG_meaning: -0.51733\n",
      "Word: nanny Similarity: -0.97807 | Bias: 0.17054 / 0.00540\n",
      "Word: engineer Similarity: -0.98360 | Bias: -0.16721 / 0.00961\n",
      "Word: warrior Similarity: -0.99449 | Bias: 0.05222 / 0.00968\n",
      "Word: boss Similarity: -0.99501 | Bias: -0.04070 / 0.00730\n",
      "Word: midwife Similarity: -0.96513 | Bias: 0.22603 / 0.00836\n"
     ]
    },
    {
     "name": "stdout",
     "output_type": "stream",
     "text": [
      "Epoch: [430 / 1000]\n",
      "errD_real: 0.000 | errD_fake: 0.109 | errG_gender: 21.304 | errG_meaning: -0.51446\n",
      "Word: nanny Similarity: -0.98050 | Bias: 0.17054 / -0.01588\n",
      "Word: engineer Similarity: -0.97941 | Bias: -0.16721 / -0.01162\n",
      "Word: warrior Similarity: -0.99512 | Bias: 0.05222 / -0.00445\n",
      "Word: boss Similarity: -0.99266 | Bias: -0.04070 / -0.00786\n",
      "Word: midwife Similarity: -0.97029 | Bias: 0.22603 / -0.01369\n",
      "Epoch: [440 / 1000]\n",
      "errD_real: 0.000 | errD_fake: 0.083 | errG_gender: 18.139 | errG_meaning: -0.51560\n",
      "Word: nanny Similarity: -0.98067 | Bias: 0.17054 / -0.01079\n",
      "Word: engineer Similarity: -0.98083 | Bias: -0.16721 / -0.00433\n",
      "Word: warrior Similarity: -0.99522 | Bias: 0.05222 / -0.00317\n",
      "Word: boss Similarity: -0.99450 | Bias: -0.04070 / -0.00564\n",
      "Word: midwife Similarity: -0.97035 | Bias: 0.22603 / -0.01029\n",
      "Epoch: [450 / 1000]\n",
      "errD_real: 0.000 | errD_fake: 0.008 | errG_gender: 17.905 | errG_meaning: -0.51695\n",
      "Word: nanny Similarity: -0.98067 | Bias: 0.17054 / -0.01180\n",
      "Word: engineer Similarity: -0.98007 | Bias: -0.16721 / -0.00779\n",
      "Word: warrior Similarity: -0.99580 | Bias: 0.05222 / -0.00832\n",
      "Word: boss Similarity: -0.99391 | Bias: -0.04070 / -0.00792\n",
      "Word: midwife Similarity: -0.97038 | Bias: 0.22603 / -0.01192\n",
      "Epoch: [460 / 1000]\n",
      "errD_real: 0.000 | errD_fake: 0.011 | errG_gender: 20.965 | errG_meaning: -0.51727\n",
      "Word: nanny Similarity: -0.97996 | Bias: 0.17054 / -0.00796\n",
      "Word: engineer Similarity: -0.98106 | Bias: -0.16721 / -0.00612\n",
      "Word: warrior Similarity: -0.99507 | Bias: 0.05222 / -0.01397\n",
      "Word: boss Similarity: -0.99356 | Bias: -0.04070 / -0.00662\n",
      "Word: midwife Similarity: -0.97024 | Bias: 0.22603 / -0.01269\n",
      "Epoch: [470 / 1000]\n",
      "errD_real: 0.000 | errD_fake: 0.017 | errG_gender: 21.594 | errG_meaning: -0.51606\n",
      "Word: nanny Similarity: -0.98046 | Bias: 0.17054 / -0.00769\n",
      "Word: engineer Similarity: -0.98103 | Bias: -0.16721 / -0.00653\n",
      "Word: warrior Similarity: -0.99594 | Bias: 0.05222 / -0.01127\n",
      "Word: boss Similarity: -0.99423 | Bias: -0.04070 / -0.00886\n",
      "Word: midwife Similarity: -0.97058 | Bias: 0.22603 / -0.00967\n",
      "Epoch: [480 / 1000]\n",
      "errD_real: 0.000 | errD_fake: 0.001 | errG_gender: 18.959 | errG_meaning: -0.51791\n",
      "Word: nanny Similarity: -0.97764 | Bias: 0.17054 / 0.00816\n",
      "Word: engineer Similarity: -0.98317 | Bias: -0.16721 / 0.00573\n",
      "Word: warrior Similarity: -0.99496 | Bias: 0.05222 / 0.00646\n",
      "Word: boss Similarity: -0.99506 | Bias: -0.04070 / 0.00534\n",
      "Word: midwife Similarity: -0.96630 | Bias: 0.22603 / 0.00968\n",
      "Epoch: [490 / 1000]\n",
      "errD_real: 0.000 | errD_fake: 0.004 | errG_gender: 21.511 | errG_meaning: -0.51707\n",
      "Word: nanny Similarity: -0.98090 | Bias: 0.17054 / -0.00914\n",
      "Word: engineer Similarity: -0.98102 | Bias: -0.16721 / -0.00748\n",
      "Word: warrior Similarity: -0.99571 | Bias: 0.05222 / -0.00772\n",
      "Word: boss Similarity: -0.99433 | Bias: -0.04070 / -0.01170\n",
      "Word: midwife Similarity: -0.97026 | Bias: 0.22603 / -0.00703\n",
      "Epoch: [500 / 1000]\n",
      "errD_real: 0.000 | errD_fake: 0.055 | errG_gender: 18.560 | errG_meaning: -0.51804\n",
      "Word: nanny Similarity: -0.97691 | Bias: 0.17054 / 0.01150\n",
      "Word: engineer Similarity: -0.98444 | Bias: -0.16721 / 0.00816\n",
      "Word: warrior Similarity: -0.99497 | Bias: 0.05222 / 0.00877\n",
      "Word: boss Similarity: -0.99565 | Bias: -0.04070 / 0.00711\n",
      "Word: midwife Similarity: -0.96626 | Bias: 0.22603 / 0.00972\n",
      "Epoch: [510 / 1000]\n",
      "errD_real: 0.000 | errD_fake: 0.049 | errG_gender: 18.816 | errG_meaning: -0.51733\n",
      "Word: nanny Similarity: -0.98039 | Bias: 0.17054 / -0.00778\n",
      "Word: engineer Similarity: -0.98212 | Bias: -0.16721 / -0.00231\n",
      "Word: warrior Similarity: -0.99574 | Bias: 0.05222 / -0.00424\n",
      "Word: boss Similarity: -0.99357 | Bias: -0.04070 / -0.01020\n",
      "Word: midwife Similarity: -0.97017 | Bias: 0.22603 / -0.00737\n",
      "Epoch: [520 / 1000]\n",
      "errD_real: 0.000 | errD_fake: 0.000 | errG_gender: 19.958 | errG_meaning: -0.51749\n",
      "Word: nanny Similarity: -0.97932 | Bias: 0.17054 / 0.00251\n",
      "Word: engineer Similarity: -0.98346 | Bias: -0.16721 / 0.00510\n",
      "Word: warrior Similarity: -0.99459 | Bias: 0.05222 / 0.00919\n",
      "Word: boss Similarity: -0.99479 | Bias: -0.04070 / 0.00793\n",
      "Word: midwife Similarity: -0.96606 | Bias: 0.22603 / 0.00796\n",
      "Epoch: [530 / 1000]\n",
      "errD_real: 0.000 | errD_fake: 0.000 | errG_gender: 19.852 | errG_meaning: -0.51630\n",
      "Word: nanny Similarity: -0.98151 | Bias: 0.17054 / -0.01312\n",
      "Word: engineer Similarity: -0.98160 | Bias: -0.16721 / -0.00547\n",
      "Word: warrior Similarity: -0.99548 | Bias: 0.05222 / -0.00390\n",
      "Word: boss Similarity: -0.99429 | Bias: -0.04070 / -0.00993\n",
      "Word: midwife Similarity: -0.97019 | Bias: 0.22603 / -0.00864\n",
      "Epoch: [540 / 1000]\n",
      "errD_real: 0.001 | errD_fake: 0.051 | errG_gender: 18.513 | errG_meaning: -0.51958\n",
      "Word: nanny Similarity: -0.97818 | Bias: 0.17054 / 0.00980\n",
      "Word: engineer Similarity: -0.98372 | Bias: -0.16721 / 0.00377\n",
      "Word: warrior Similarity: -0.99567 | Bias: 0.05222 / 0.00378\n",
      "Word: boss Similarity: -0.99556 | Bias: -0.04070 / 0.01270\n",
      "Word: midwife Similarity: -0.96881 | Bias: 0.22603 / 0.00508\n",
      "Epoch: [550 / 1000]\n",
      "errD_real: 0.000 | errD_fake: 0.014 | errG_gender: 20.764 | errG_meaning: -0.51946\n",
      "Word: nanny Similarity: -0.97974 | Bias: 0.17054 / -0.00951\n",
      "Word: engineer Similarity: -0.98073 | Bias: -0.16721 / -0.00439\n",
      "Word: warrior Similarity: -0.99424 | Bias: 0.05222 / -0.00890\n",
      "Word: boss Similarity: -0.99348 | Bias: -0.04070 / -0.00959\n",
      "Word: midwife Similarity: -0.96841 | Bias: 0.22603 / -0.00791\n",
      "Epoch: [560 / 1000]\n",
      "errD_real: 0.000 | errD_fake: 0.050 | errG_gender: 18.774 | errG_meaning: -0.51826\n",
      "Word: nanny Similarity: -0.98105 | Bias: 0.17054 / -0.00861\n",
      "Word: engineer Similarity: -0.98203 | Bias: -0.16721 / -0.00474\n",
      "Word: warrior Similarity: -0.99587 | Bias: 0.05222 / -0.00405\n",
      "Word: boss Similarity: -0.99500 | Bias: -0.04070 / -0.00814\n",
      "Word: midwife Similarity: -0.97087 | Bias: 0.22603 / -0.00695\n",
      "Epoch: [570 / 1000]\n",
      "errD_real: 0.000 | errD_fake: 0.001 | errG_gender: 18.734 | errG_meaning: -0.51819\n",
      "Word: nanny Similarity: -0.98153 | Bias: 0.17054 / -0.00513\n",
      "Word: engineer Similarity: -0.98275 | Bias: -0.16721 / -0.00358\n",
      "Word: warrior Similarity: -0.99610 | Bias: 0.05222 / -0.00535\n",
      "Word: boss Similarity: -0.99507 | Bias: -0.04070 / -0.00381\n",
      "Word: midwife Similarity: -0.97116 | Bias: 0.22603 / -0.00851\n",
      "Epoch: [580 / 1000]\n",
      "errD_real: 0.000 | errD_fake: 0.016 | errG_gender: 19.424 | errG_meaning: -0.51984\n",
      "Word: nanny Similarity: -0.98221 | Bias: 0.17054 / -0.00768\n",
      "Word: engineer Similarity: -0.98279 | Bias: -0.16721 / -0.00247\n",
      "Word: warrior Similarity: -0.99614 | Bias: 0.05222 / -0.00363\n",
      "Word: boss Similarity: -0.99552 | Bias: -0.04070 / 0.00142\n",
      "Word: midwife Similarity: -0.97134 | Bias: 0.22603 / -0.00687\n",
      "Epoch: [590 / 1000]\n",
      "errD_real: 0.000 | errD_fake: 0.013 | errG_gender: 18.550 | errG_meaning: -0.51802\n",
      "Word: nanny Similarity: -0.97852 | Bias: 0.17054 / 0.01064\n",
      "Word: engineer Similarity: -0.98375 | Bias: -0.16721 / 0.00283\n",
      "Word: warrior Similarity: -0.99583 | Bias: 0.05222 / 0.00367\n",
      "Word: boss Similarity: -0.99544 | Bias: -0.04070 / 0.00814\n",
      "Word: midwife Similarity: -0.96874 | Bias: 0.22603 / 0.00595\n",
      "Epoch: [600 / 1000]\n",
      "errD_real: 0.000 | errD_fake: 0.003 | errG_gender: 20.340 | errG_meaning: -0.51979\n",
      "Word: nanny Similarity: -0.97979 | Bias: 0.17054 / 0.00230\n",
      "Word: engineer Similarity: -0.98393 | Bias: -0.16721 / 0.00642\n",
      "Word: warrior Similarity: -0.99549 | Bias: 0.05222 / 0.00881\n",
      "Word: boss Similarity: -0.99562 | Bias: -0.04070 / 0.00450\n",
      "Word: midwife Similarity: -0.96621 | Bias: 0.22603 / 0.01125\n",
      "Epoch: [610 / 1000]\n",
      "errD_real: 0.000 | errD_fake: 0.002 | errG_gender: 22.224 | errG_meaning: -0.51827\n",
      "Word: nanny Similarity: -0.97864 | Bias: 0.17054 / 0.00655\n",
      "Word: engineer Similarity: -0.98372 | Bias: -0.16721 / 0.00661\n",
      "Word: warrior Similarity: -0.99542 | Bias: 0.05222 / 0.00483\n",
      "Word: boss Similarity: -0.99530 | Bias: -0.04070 / 0.00552\n",
      "Word: midwife Similarity: -0.96681 | Bias: 0.22603 / 0.00858\n",
      "Epoch: [620 / 1000]\n",
      "errD_real: 0.000 | errD_fake: 0.001 | errG_gender: 18.928 | errG_meaning: -0.51970\n",
      "Word: nanny Similarity: -0.98298 | Bias: 0.17054 / -0.01063\n",
      "Word: engineer Similarity: -0.98375 | Bias: -0.16721 / -0.00023\n",
      "Word: warrior Similarity: -0.99673 | Bias: 0.05222 / -0.00515\n",
      "Word: boss Similarity: -0.99532 | Bias: -0.04070 / -0.00907\n",
      "Word: midwife Similarity: -0.97126 | Bias: 0.22603 / -0.00615\n",
      "Epoch: [630 / 1000]\n",
      "errD_real: 0.000 | errD_fake: 0.001 | errG_gender: 21.225 | errG_meaning: -0.51828\n",
      "Word: nanny Similarity: -0.98133 | Bias: 0.17054 / -0.00539\n",
      "Word: engineer Similarity: -0.98293 | Bias: -0.16721 / -0.00313\n",
      "Word: warrior Similarity: -0.99635 | Bias: 0.05222 / -0.00796\n",
      "Word: boss Similarity: -0.99514 | Bias: -0.04070 / -0.00850\n",
      "Word: midwife Similarity: -0.97116 | Bias: 0.22603 / -0.00437\n"
     ]
    },
    {
     "name": "stdout",
     "output_type": "stream",
     "text": [
      "Epoch: [640 / 1000]\n",
      "errD_real: 0.000 | errD_fake: 0.008 | errG_gender: 19.687 | errG_meaning: -0.52007\n",
      "Word: nanny Similarity: -0.98011 | Bias: 0.17054 / 0.00216\n",
      "Word: engineer Similarity: -0.98374 | Bias: -0.16721 / 0.00382\n",
      "Word: warrior Similarity: -0.99614 | Bias: 0.05222 / 0.00122\n",
      "Word: boss Similarity: -0.99649 | Bias: -0.04070 / 0.00479\n",
      "Word: midwife Similarity: -0.97026 | Bias: 0.22603 / 0.00083\n",
      "Epoch: [650 / 1000]\n",
      "errD_real: 0.000 | errD_fake: 0.018 | errG_gender: 20.233 | errG_meaning: -0.52091\n",
      "Word: nanny Similarity: -0.97973 | Bias: 0.17054 / 0.00837\n",
      "Word: engineer Similarity: -0.98426 | Bias: -0.16721 / 0.00523\n",
      "Word: warrior Similarity: -0.99580 | Bias: 0.05222 / 0.00533\n",
      "Word: boss Similarity: -0.99531 | Bias: -0.04070 / 0.00399\n",
      "Word: midwife Similarity: -0.96795 | Bias: 0.22603 / 0.00692\n",
      "Epoch: [660 / 1000]\n",
      "errD_real: 0.000 | errD_fake: 0.000 | errG_gender: 21.255 | errG_meaning: -0.52039\n",
      "Word: nanny Similarity: -0.98244 | Bias: 0.17054 / -0.00596\n",
      "Word: engineer Similarity: -0.98296 | Bias: -0.16721 / -0.00317\n",
      "Word: warrior Similarity: -0.99681 | Bias: 0.05222 / -0.00872\n",
      "Word: boss Similarity: -0.99543 | Bias: -0.04070 / -0.00863\n",
      "Word: midwife Similarity: -0.97202 | Bias: 0.22603 / -0.00630\n",
      "Epoch: [670 / 1000]\n",
      "errD_real: 0.000 | errD_fake: 0.109 | errG_gender: 20.160 | errG_meaning: -0.51918\n",
      "Word: nanny Similarity: -0.98201 | Bias: 0.17054 / -0.01000\n",
      "Word: engineer Similarity: -0.98244 | Bias: -0.16721 / -0.00455\n",
      "Word: warrior Similarity: -0.99635 | Bias: 0.05222 / -0.00608\n",
      "Word: boss Similarity: -0.99466 | Bias: -0.04070 / -0.00732\n",
      "Word: midwife Similarity: -0.97123 | Bias: 0.22603 / -0.00682\n",
      "Epoch: [680 / 1000]\n",
      "errD_real: 0.000 | errD_fake: 0.000 | errG_gender: 21.489 | errG_meaning: -0.52189\n",
      "Word: nanny Similarity: -0.98083 | Bias: 0.17054 / 0.00480\n",
      "Word: engineer Similarity: -0.98435 | Bias: -0.16721 / 0.00323\n",
      "Word: warrior Similarity: -0.99607 | Bias: 0.05222 / 0.00688\n",
      "Word: boss Similarity: -0.99656 | Bias: -0.04070 / 0.00075\n",
      "Word: midwife Similarity: -0.97012 | Bias: 0.22603 / 0.00270\n",
      "Epoch: [690 / 1000]\n",
      "errD_real: 0.000 | errD_fake: 0.000 | errG_gender: 22.908 | errG_meaning: -0.52138\n",
      "Word: nanny Similarity: -0.98035 | Bias: 0.17054 / 0.00652\n",
      "Word: engineer Similarity: -0.98403 | Bias: -0.16721 / 0.00255\n",
      "Word: warrior Similarity: -0.99583 | Bias: 0.05222 / 0.00643\n",
      "Word: boss Similarity: -0.99602 | Bias: -0.04070 / 0.00271\n",
      "Word: midwife Similarity: -0.97034 | Bias: 0.22603 / 0.00214\n",
      "Epoch: [700 / 1000]\n",
      "errD_real: 0.000 | errD_fake: 0.000 | errG_gender: 23.080 | errG_meaning: -0.52115\n",
      "Word: nanny Similarity: -0.98220 | Bias: 0.17054 / -0.00622\n",
      "Word: engineer Similarity: -0.98237 | Bias: -0.16721 / -0.00713\n",
      "Word: warrior Similarity: -0.99616 | Bias: 0.05222 / -0.00844\n",
      "Word: boss Similarity: -0.99619 | Bias: -0.04070 / -0.00374\n",
      "Word: midwife Similarity: -0.97200 | Bias: 0.22603 / -0.01235\n",
      "Epoch: [710 / 1000]\n",
      "errD_real: 0.000 | errD_fake: 0.000 | errG_gender: 20.110 | errG_meaning: -0.51909\n",
      "Word: nanny Similarity: -0.97999 | Bias: 0.17054 / 0.00818\n",
      "Word: engineer Similarity: -0.98401 | Bias: -0.16721 / 0.00423\n",
      "Word: warrior Similarity: -0.99615 | Bias: 0.05222 / 0.00517\n",
      "Word: boss Similarity: -0.99608 | Bias: -0.04070 / 0.00512\n",
      "Word: midwife Similarity: -0.96942 | Bias: 0.22603 / 0.00518\n",
      "Epoch: [720 / 1000]\n",
      "errD_real: 0.000 | errD_fake: 0.044 | errG_gender: 19.784 | errG_meaning: -0.52082\n",
      "Word: nanny Similarity: -0.98055 | Bias: 0.17054 / 0.00405\n",
      "Word: engineer Similarity: -0.98460 | Bias: -0.16721 / 0.00744\n",
      "Word: warrior Similarity: -0.99604 | Bias: 0.05222 / 0.00623\n",
      "Word: boss Similarity: -0.99611 | Bias: -0.04070 / 0.00365\n",
      "Word: midwife Similarity: -0.96868 | Bias: 0.22603 / 0.00790\n",
      "Epoch: [730 / 1000]\n",
      "errD_real: 0.000 | errD_fake: 0.000 | errG_gender: 21.683 | errG_meaning: -0.52173\n",
      "Word: nanny Similarity: -0.98251 | Bias: 0.17054 / -0.00538\n",
      "Word: engineer Similarity: -0.98338 | Bias: -0.16721 / -0.00160\n",
      "Word: warrior Similarity: -0.99660 | Bias: 0.05222 / 0.00068\n",
      "Word: boss Similarity: -0.99660 | Bias: -0.04070 / 0.00008\n",
      "Word: midwife Similarity: -0.97144 | Bias: 0.22603 / -0.00135\n",
      "Epoch: [740 / 1000]\n",
      "errD_real: 0.000 | errD_fake: 0.000 | errG_gender: 26.168 | errG_meaning: -0.52138\n",
      "Word: nanny Similarity: -0.98148 | Bias: 0.17054 / 0.00680\n",
      "Word: engineer Similarity: -0.98514 | Bias: -0.16721 / 0.00684\n",
      "Word: warrior Similarity: -0.99640 | Bias: 0.05222 / 0.00521\n",
      "Word: boss Similarity: -0.99684 | Bias: -0.04070 / 0.00698\n",
      "Word: midwife Similarity: -0.96894 | Bias: 0.22603 / 0.01040\n",
      "Epoch: [750 / 1000]\n",
      "errD_real: 0.000 | errD_fake: 0.002 | errG_gender: 25.916 | errG_meaning: -0.52034\n",
      "Word: nanny Similarity: -0.98022 | Bias: 0.17054 / 0.00610\n",
      "Word: engineer Similarity: -0.98393 | Bias: -0.16721 / 0.00708\n",
      "Word: warrior Similarity: -0.99579 | Bias: 0.05222 / 0.00509\n",
      "Word: boss Similarity: -0.99659 | Bias: -0.04070 / 0.00342\n",
      "Word: midwife Similarity: -0.96921 | Bias: 0.22603 / 0.00518\n",
      "Epoch: [760 / 1000]\n",
      "errD_real: 0.000 | errD_fake: 0.002 | errG_gender: 18.026 | errG_meaning: -0.52057\n",
      "Word: nanny Similarity: -0.98002 | Bias: 0.17054 / 0.00878\n",
      "Word: engineer Similarity: -0.98430 | Bias: -0.16721 / 0.00549\n",
      "Word: warrior Similarity: -0.99592 | Bias: 0.05222 / 0.00012\n",
      "Word: boss Similarity: -0.99530 | Bias: -0.04070 / 0.00805\n",
      "Word: midwife Similarity: -0.97055 | Bias: 0.22603 / 0.00180\n",
      "Epoch: [770 / 1000]\n",
      "errD_real: 0.000 | errD_fake: 0.005 | errG_gender: 15.487 | errG_meaning: -0.52202\n",
      "Word: nanny Similarity: -0.98141 | Bias: 0.17054 / 0.00384\n",
      "Word: engineer Similarity: -0.98475 | Bias: -0.16721 / 0.00440\n",
      "Word: warrior Similarity: -0.99624 | Bias: 0.05222 / 0.00464\n",
      "Word: boss Similarity: -0.99656 | Bias: -0.04070 / 0.00397\n",
      "Word: midwife Similarity: -0.96902 | Bias: 0.22603 / 0.00792\n",
      "Epoch: [780 / 1000]\n",
      "errD_real: 0.000 | errD_fake: 0.001 | errG_gender: 19.015 | errG_meaning: -0.52229\n",
      "Word: nanny Similarity: -0.98151 | Bias: 0.17054 / 0.00565\n",
      "Word: engineer Similarity: -0.98532 | Bias: -0.16721 / 0.01088\n",
      "Word: warrior Similarity: -0.99584 | Bias: 0.05222 / 0.00742\n",
      "Word: boss Similarity: -0.99669 | Bias: -0.04070 / 0.00175\n",
      "Word: midwife Similarity: -0.96913 | Bias: 0.22603 / 0.00855\n",
      "Epoch: [790 / 1000]\n",
      "errD_real: 0.000 | errD_fake: 0.000 | errG_gender: 21.921 | errG_meaning: -0.52243\n",
      "Word: nanny Similarity: -0.98183 | Bias: 0.17054 / 0.00572\n",
      "Word: engineer Similarity: -0.98460 | Bias: -0.16721 / 0.00357\n",
      "Word: warrior Similarity: -0.99645 | Bias: 0.05222 / 0.00459\n",
      "Word: boss Similarity: -0.99684 | Bias: -0.04070 / 0.00338\n",
      "Word: midwife Similarity: -0.97067 | Bias: 0.22603 / 0.00495\n",
      "Epoch: [800 / 1000]\n",
      "errD_real: 0.000 | errD_fake: 0.000 | errG_gender: 26.772 | errG_meaning: -0.52235\n",
      "Word: nanny Similarity: -0.98213 | Bias: 0.17054 / 0.00308\n",
      "Word: engineer Similarity: -0.98464 | Bias: -0.16721 / 0.00517\n",
      "Word: warrior Similarity: -0.99616 | Bias: 0.05222 / 0.00847\n",
      "Word: boss Similarity: -0.99683 | Bias: -0.04070 / 0.00366\n",
      "Word: midwife Similarity: -0.96920 | Bias: 0.22603 / 0.00761\n",
      "Epoch: [810 / 1000]\n",
      "errD_real: 0.000 | errD_fake: 0.004 | errG_gender: 20.856 | errG_meaning: -0.52276\n",
      "Word: nanny Similarity: -0.98198 | Bias: 0.17054 / 0.00449\n",
      "Word: engineer Similarity: -0.98466 | Bias: -0.16721 / 0.00247\n",
      "Word: warrior Similarity: -0.99634 | Bias: 0.05222 / 0.00589\n",
      "Word: boss Similarity: -0.99661 | Bias: -0.04070 / 0.00693\n",
      "Word: midwife Similarity: -0.97065 | Bias: 0.22603 / 0.00413\n",
      "Epoch: [820 / 1000]\n",
      "errD_real: 0.000 | errD_fake: 0.001 | errG_gender: 18.468 | errG_meaning: -0.52175\n",
      "Word: nanny Similarity: -0.98245 | Bias: 0.17054 / 0.00162\n",
      "Word: engineer Similarity: -0.98460 | Bias: -0.16721 / 0.00534\n",
      "Word: warrior Similarity: -0.99670 | Bias: 0.05222 / 0.00316\n",
      "Word: boss Similarity: -0.99646 | Bias: -0.04070 / 0.00399\n",
      "Word: midwife Similarity: -0.97128 | Bias: 0.22603 / 0.00102\n",
      "Epoch: [830 / 1000]\n",
      "errD_real: 0.000 | errD_fake: 0.000 | errG_gender: 23.979 | errG_meaning: -0.52021\n",
      "Word: nanny Similarity: -0.98130 | Bias: 0.17054 / 0.00607\n",
      "Word: engineer Similarity: -0.98464 | Bias: -0.16721 / 0.00750\n",
      "Word: warrior Similarity: -0.99636 | Bias: 0.05222 / 0.00150\n",
      "Word: boss Similarity: -0.99644 | Bias: -0.04070 / 0.00179\n",
      "Word: midwife Similarity: -0.96976 | Bias: 0.22603 / 0.00697\n",
      "Epoch: [840 / 1000]\n",
      "errD_real: 0.000 | errD_fake: 0.002 | errG_gender: 19.304 | errG_meaning: -0.52259\n",
      "Word: nanny Similarity: -0.98236 | Bias: 0.17054 / 0.00334\n",
      "Word: engineer Similarity: -0.98420 | Bias: -0.16721 / 0.00182\n",
      "Word: warrior Similarity: -0.99593 | Bias: 0.05222 / 0.00671\n",
      "Word: boss Similarity: -0.99666 | Bias: -0.04070 / 0.00280\n",
      "Word: midwife Similarity: -0.97004 | Bias: 0.22603 / 0.00486\n"
     ]
    },
    {
     "name": "stdout",
     "output_type": "stream",
     "text": [
      "Epoch: [850 / 1000]\n",
      "errD_real: 0.000 | errD_fake: 0.000 | errG_gender: 22.644 | errG_meaning: -0.52288\n",
      "Word: nanny Similarity: -0.98367 | Bias: 0.17054 / -0.00480\n",
      "Word: engineer Similarity: -0.98303 | Bias: -0.16721 / -0.00573\n",
      "Word: warrior Similarity: -0.99673 | Bias: 0.05222 / -0.00603\n",
      "Word: boss Similarity: -0.99665 | Bias: -0.04070 / -0.00261\n",
      "Word: midwife Similarity: -0.97262 | Bias: 0.22603 / -0.00574\n",
      "Epoch: [860 / 1000]\n",
      "errD_real: 0.000 | errD_fake: 0.004 | errG_gender: 22.743 | errG_meaning: -0.52215\n",
      "Word: nanny Similarity: -0.98390 | Bias: 0.17054 / -0.00628\n",
      "Word: engineer Similarity: -0.98329 | Bias: -0.16721 / -0.00301\n",
      "Word: warrior Similarity: -0.99672 | Bias: 0.05222 / -0.00227\n",
      "Word: boss Similarity: -0.99606 | Bias: -0.04070 / -0.00496\n",
      "Word: midwife Similarity: -0.97290 | Bias: 0.22603 / -0.00671\n",
      "Epoch: [870 / 1000]\n",
      "errD_real: 0.000 | errD_fake: 0.000 | errG_gender: 20.119 | errG_meaning: -0.52320\n",
      "Word: nanny Similarity: -0.98270 | Bias: 0.17054 / 0.00165\n",
      "Word: engineer Similarity: -0.98448 | Bias: -0.16721 / 0.00266\n",
      "Word: warrior Similarity: -0.99683 | Bias: 0.05222 / 0.00278\n",
      "Word: boss Similarity: -0.99676 | Bias: -0.04070 / 0.00479\n",
      "Word: midwife Similarity: -0.97167 | Bias: 0.22603 / 0.00057\n",
      "Epoch: [880 / 1000]\n",
      "errD_real: 0.000 | errD_fake: 0.009 | errG_gender: 19.874 | errG_meaning: -0.52256\n",
      "Word: nanny Similarity: -0.98430 | Bias: 0.17054 / -0.00621\n",
      "Word: engineer Similarity: -0.98330 | Bias: -0.16721 / -0.00514\n",
      "Word: warrior Similarity: -0.99717 | Bias: 0.05222 / -0.00425\n",
      "Word: boss Similarity: -0.99682 | Bias: -0.04070 / -0.00387\n",
      "Word: midwife Similarity: -0.97308 | Bias: 0.22603 / -0.00623\n",
      "Epoch: [890 / 1000]\n",
      "errD_real: 0.000 | errD_fake: 0.005 | errG_gender: 21.009 | errG_meaning: -0.52300\n",
      "Word: nanny Similarity: -0.98422 | Bias: 0.17054 / -0.00725\n",
      "Word: engineer Similarity: -0.98376 | Bias: -0.16721 / -0.00220\n",
      "Word: warrior Similarity: -0.99696 | Bias: 0.05222 / -0.00503\n",
      "Word: boss Similarity: -0.99658 | Bias: -0.04070 / -0.00677\n",
      "Word: midwife Similarity: -0.97303 | Bias: 0.22603 / -0.00602\n",
      "Epoch: [900 / 1000]\n",
      "errD_real: 0.000 | errD_fake: 0.007 | errG_gender: 20.737 | errG_meaning: -0.52190\n",
      "Word: nanny Similarity: -0.98263 | Bias: 0.17054 / 0.00265\n",
      "Word: engineer Similarity: -0.98466 | Bias: -0.16721 / 0.00432\n",
      "Word: warrior Similarity: -0.99610 | Bias: 0.05222 / 0.00593\n",
      "Word: boss Similarity: -0.99642 | Bias: -0.04070 / 0.00508\n",
      "Word: midwife Similarity: -0.97051 | Bias: 0.22603 / 0.00556\n",
      "Epoch: [910 / 1000]\n",
      "errD_real: 0.000 | errD_fake: 0.009 | errG_gender: 19.869 | errG_meaning: -0.52213\n",
      "Word: nanny Similarity: -0.98239 | Bias: 0.17054 / 0.00361\n",
      "Word: engineer Similarity: -0.98434 | Bias: -0.16721 / 0.00175\n",
      "Word: warrior Similarity: -0.99688 | Bias: 0.05222 / 0.00106\n",
      "Word: boss Similarity: -0.99711 | Bias: -0.04070 / 0.00486\n",
      "Word: midwife Similarity: -0.97056 | Bias: 0.22603 / 0.00593\n",
      "Epoch: [920 / 1000]\n",
      "errD_real: 0.000 | errD_fake: 0.000 | errG_gender: 25.550 | errG_meaning: -0.52265\n",
      "Word: nanny Similarity: -0.98315 | Bias: 0.17054 / -0.00460\n",
      "Word: engineer Similarity: -0.98255 | Bias: -0.16721 / -0.00644\n",
      "Word: warrior Similarity: -0.99723 | Bias: 0.05222 / -0.00703\n",
      "Word: boss Similarity: -0.99615 | Bias: -0.04070 / -0.00669\n",
      "Word: midwife Similarity: -0.97324 | Bias: 0.22603 / -0.00924\n",
      "Epoch: [930 / 1000]\n",
      "errD_real: 0.000 | errD_fake: 0.000 | errG_gender: 27.343 | errG_meaning: -0.51903\n",
      "Word: nanny Similarity: -0.98322 | Bias: 0.17054 / -0.00409\n",
      "Word: engineer Similarity: -0.98393 | Bias: -0.16721 / -0.00061\n",
      "Word: warrior Similarity: -0.99680 | Bias: 0.05222 / -0.00394\n",
      "Word: boss Similarity: -0.99662 | Bias: -0.04070 / -0.00436\n",
      "Word: midwife Similarity: -0.97270 | Bias: 0.22603 / -0.00306\n",
      "Epoch: [940 / 1000]\n",
      "errD_real: 0.000 | errD_fake: 0.000 | errG_gender: 19.570 | errG_meaning: -0.52317\n",
      "Word: nanny Similarity: -0.98235 | Bias: 0.17054 / 0.00490\n",
      "Word: engineer Similarity: -0.98493 | Bias: -0.16721 / 0.00641\n",
      "Word: warrior Similarity: -0.99675 | Bias: 0.05222 / 0.00527\n",
      "Word: boss Similarity: -0.99712 | Bias: -0.04070 / 0.00458\n",
      "Word: midwife Similarity: -0.97088 | Bias: 0.22603 / 0.00552\n",
      "Epoch: [950 / 1000]\n",
      "errD_real: 0.000 | errD_fake: 0.001 | errG_gender: 22.296 | errG_meaning: -0.52256\n",
      "Word: nanny Similarity: -0.98375 | Bias: 0.17054 / -0.00498\n",
      "Word: engineer Similarity: -0.98321 | Bias: -0.16721 / -0.00521\n",
      "Word: warrior Similarity: -0.99705 | Bias: 0.05222 / -0.00267\n",
      "Word: boss Similarity: -0.99630 | Bias: -0.04070 / -0.00366\n",
      "Word: midwife Similarity: -0.97307 | Bias: 0.22603 / -0.00481\n",
      "Epoch: [960 / 1000]\n",
      "errD_real: 0.000 | errD_fake: 0.000 | errG_gender: 25.380 | errG_meaning: -0.52490\n",
      "Word: nanny Similarity: -0.98328 | Bias: 0.17054 / -0.00342\n",
      "Word: engineer Similarity: -0.98346 | Bias: -0.16721 / -0.00148\n",
      "Word: warrior Similarity: -0.99657 | Bias: 0.05222 / -0.00145\n",
      "Word: boss Similarity: -0.99649 | Bias: -0.04070 / -0.00016\n",
      "Word: midwife Similarity: -0.97148 | Bias: 0.22603 / -0.00250\n",
      "Epoch: [970 / 1000]\n",
      "errD_real: 0.000 | errD_fake: 0.001 | errG_gender: 21.793 | errG_meaning: -0.52290\n",
      "Word: nanny Similarity: -0.98274 | Bias: 0.17054 / 0.00344\n",
      "Word: engineer Similarity: -0.98486 | Bias: -0.16721 / 0.00372\n",
      "Word: warrior Similarity: -0.99710 | Bias: 0.05222 / 0.00151\n",
      "Word: boss Similarity: -0.99741 | Bias: -0.04070 / 0.00516\n",
      "Word: midwife Similarity: -0.97145 | Bias: 0.22603 / 0.00301\n",
      "Epoch: [980 / 1000]\n",
      "errD_real: 0.000 | errD_fake: 0.000 | errG_gender: 22.053 | errG_meaning: -0.52146\n",
      "Word: nanny Similarity: -0.98155 | Bias: 0.17054 / 0.00736\n",
      "Word: engineer Similarity: -0.98489 | Bias: -0.16721 / 0.00229\n",
      "Word: warrior Similarity: -0.99656 | Bias: 0.05222 / 0.00519\n",
      "Word: boss Similarity: -0.99701 | Bias: -0.04070 / 0.00651\n",
      "Word: midwife Similarity: -0.97102 | Bias: 0.22603 / 0.00501\n",
      "Epoch: [990 / 1000]\n",
      "errD_real: 0.000 | errD_fake: 0.010 | errG_gender: 21.456 | errG_meaning: -0.52357\n",
      "Word: nanny Similarity: -0.98351 | Bias: 0.17054 / -0.00373\n",
      "Word: engineer Similarity: -0.98229 | Bias: -0.16721 / -0.00724\n",
      "Word: warrior Similarity: -0.99703 | Bias: 0.05222 / -0.00848\n",
      "Word: boss Similarity: -0.99624 | Bias: -0.04070 / -0.00470\n",
      "Word: midwife Similarity: -0.97292 | Bias: 0.22603 / -0.00534\n",
      "Epoch: [1000 / 1000]\n",
      "errD_real: 0.000 | errD_fake: 0.008 | errG_gender: 19.307 | errG_meaning: -0.52259\n",
      "Word: nanny Similarity: -0.98283 | Bias: 0.17054 / 0.00191\n",
      "Word: engineer Similarity: -0.98504 | Bias: -0.16721 / 0.00396\n",
      "Word: warrior Similarity: -0.99721 | Bias: 0.05222 / 0.00235\n",
      "Word: boss Similarity: -0.99726 | Bias: -0.04070 / 0.00330\n",
      "Word: midwife Similarity: -0.97140 | Bias: 0.22603 / 0.00354\n",
      "\n"
     ]
    }
   ],
   "source": [
    "G_losses = []\n",
    "G_Glosses = []\n",
    "G_Mlosses = []\n",
    "D_losses = []\n",
    "D_Flosses = []\n",
    "D_Rlosses = []\n",
    "\n",
    "for epoch in tqdm(range(epochs)):\n",
    "    for i, (word, emb, gender, rgender) in enumerate(train_loader):\n",
    "        #######################\n",
    "        # Update netD\n",
    "        #######################\n",
    "        netD.zero_grad()\n",
    "        outputR = netD(emb)\n",
    "        errD_real = criterion1(outputR, gender) #train discriminator to classify real data as Male or Female\n",
    "        errD_real.backward()\n",
    "        \n",
    "#         noise = z[:emb.shape[0], :] #Fixed noise\n",
    "        noise = torch.randn(emb.shape[0], nz, device=device) #Random noise\n",
    "        \n",
    "        fake = netG(noise, emb)\n",
    "        outputF = netD(fake.detach()) #Detach, we don;t want D to change G's weights\n",
    "        errD_fake = criterion1(outputF, gender) #train discriminator to classify generated data as Male or Female\n",
    "        errD_fake.backward(retain_graph=True)\n",
    "        errD = errD_real + errD_fake\n",
    "        \n",
    "        optimizerD.step()\n",
    "        \n",
    "        ########################\n",
    "        # Update netG\n",
    "        ########################\n",
    "        netG.zero_grad()\n",
    "#         errG_meaning = criterion2(fake, emb)\n",
    "#         M = torch.abs(fake - emb).mean()\n",
    "        M = torch.abs(torch.bmm(fake.unsqueeze(1), emb.unsqueeze(2))).mean()    \n",
    "        G = torch.abs(torch.matmul(fake, torch.Tensor(g).to(device))).mean()\n",
    "        errG_meaning = 15*G - 5*M #We want to maximize M and minimize G\n",
    "        errG_meaning.backward(retain_graph=True)\n",
    "        \n",
    "        errG_gender = criterion1(outputF, rgender) #fooling discriminator = how well has it predicted the opposite label (rgender) = how bad has it predicted \n",
    "        errG_gender.backward()\n",
    "        errG = errG_gender + errG_meaning\n",
    "        \n",
    "        optimizerG.step()\n",
    "        \n",
    "    if (epoch+1) % 10 == 0:\n",
    "        print(f\"Epoch: [{epoch+1} / {epochs}]\")\n",
    "        print(f\"errD_real: {errD_real:.3f} | errD_fake: {errD_fake:.3f} | errG_gender: {errG_gender:.3f} | errG_meaning: {errG_meaning:.5f}\")    \n",
    "        test_generator(netG, g, device)\n",
    "        \n",
    "    D_losses.append(errD.item())    \n",
    "    D_Flosses.append(errD_fake.item())    \n",
    "    D_Rlosses.append(errD_real.item())    \n",
    "\n",
    "    G_losses.append(errG.item())\n",
    "    G_Glosses.append(errG_gender.item())\n",
    "    G_Mlosses.append(errG_meaning.item())        "
   ]
  },
  {
   "cell_type": "code",
   "execution_count": 86,
   "metadata": {},
   "outputs": [
    {
     "name": "stdout",
     "output_type": "stream",
     "text": [
      "Models saved\n"
     ]
    }
   ],
   "source": [
    "PATH_D = \"models/D.pth\"\n",
    "PATH_G = \"models/G.pth\"\n",
    "torch.save(netG.state_dict(), PATH_G)\n",
    "torch.save(netD.state_dict(), PATH_D)\n",
    "print(\"Models saved\")"
   ]
  },
  {
   "cell_type": "code",
   "execution_count": 56,
   "metadata": {},
   "outputs": [
    {
     "data": {
      "image/png": "[encoded data removed]",
      "text/plain": [
       "<Figure size 1000x500 with 1 Axes>"
      ]
     },
     "metadata": {
      "needs_background": "light"
     },
     "output_type": "display_data"
    }
   ],
   "source": [
    "plt.figure(figsize=(10,5), dpi=100)\n",
    "plt.title(\"Generator and Discriminator Loss During Training\")\n",
    "plt.plot(G_Glosses, label=\"G - gender loss\")\n",
    "plt.plot(D_Flosses, label=\"D - fake's gender loss\")\n",
    "plt.xlabel(\"iterations\")\n",
    "plt.ylabel(\"Loss\")\n",
    "plt.legend()\n",
    "plt.show()"
   ]
  },
  {
   "cell_type": "markdown",
   "metadata": {},
   "source": [
    "# Both are different losses, better plot seperately"
   ]
  },
  {
   "cell_type": "code",
   "execution_count": 57,
   "metadata": {},
   "outputs": [
    {
     "data": {
      "image/png": "[encoded data removed]",
      "text/plain": [
       "<Figure size 1000x500 with 1 Axes>"
      ]
     },
     "metadata": {
      "needs_background": "light"
     },
     "output_type": "display_data"
    }
   ],
   "source": [
    "plt.figure(figsize=(10,5), dpi=100)\n",
    "plt.title(\"Generator and Discriminator Loss During Training\")\n",
    "plt.plot(G_Glosses, label=\"G - gender loss\")\n",
    "plt.xlabel(\"iterations\")\n",
    "plt.ylabel(\"Loss\")\n",
    "plt.legend()\n",
    "plt.show()"
   ]
  },
  {
   "cell_type": "code",
   "execution_count": 58,
   "metadata": {},
   "outputs": [
    {
     "data": {
      "image/png": "[encoded data removed]",
      "text/plain": [
       "<Figure size 1000x500 with 1 Axes>"
      ]
     },
     "metadata": {
      "needs_background": "light"
     },
     "output_type": "display_data"
    }
   ],
   "source": [
    "plt.figure(figsize=(10,5), dpi=100)\n",
    "plt.title(\"Discriminator Loss During Training\")\n",
    "plt.plot(D_Flosses, label=\"D - fake's gender loss\")\n",
    "plt.xlabel(\"iterations\")\n",
    "plt.ylabel(\"Loss\")\n",
    "plt.legend()\n",
    "plt.show()"
   ]
  },
  {
   "cell_type": "code",
   "execution_count": 59,
   "metadata": {},
   "outputs": [
    {
     "name": "stdout",
     "output_type": "stream",
     "text": [
      "any: -0.9937635660171509\n",
      "word: -0.9972375631332397\n",
      "can: -0.9982516169548035\n",
      "go: -0.9987564086914062\n",
      "here: -0.9939884543418884\n",
      "it: -0.9957798719406128\n",
      "will: -0.9971675276756287\n",
      "have: -0.996321439743042\n",
      "similar: -0.9970186948776245\n",
      "meaning: -0.9971277713775635\n",
      "okay: -0.9871394634246826\n",
      "anything: -0.9986513257026672\n",
      "at: -0.9956119656562805\n",
      "all: -0.9928355813026428\n"
     ]
    }
   ],
   "source": [
    "wds = \"any word can go here it will have similar meaning okay anything at all\".split()\n",
    "for w in wds:\n",
    "    orig = torch.Tensor(E.v(w)).to(device)\n",
    "    new = get_new_emb(w, netG).squeeze()\n",
    "    sim = new.dot(orig)\n",
    "    print(f\"{w}: {sim}\")"
   ]
  },
  {
   "cell_type": "markdown",
   "metadata": {},
   "source": [
    "# Analogy tests"
   ]
  },
  {
   "cell_type": "code",
   "execution_count": 66,
   "metadata": {},
   "outputs": [],
   "source": [
    "def find_closest(new, k=100, E=E):\n",
    "    dots = new.dot(E.vecs.T)\n",
    "    dd = dict(zip([abs(dot) for dot in dots], [i for i in range(len(dots))]))\n",
    "    ns=[]\n",
    "    thresh = 1.5\n",
    "    for dot in sorted(dd, reverse=True):\n",
    "        if True:\n",
    "            ns.append(E.words[int(dd[dot])])\n",
    "    return ns[:k]"
   ]
  },
  {
   "cell_type": "code",
   "execution_count": 62,
   "metadata": {},
   "outputs": [],
   "source": [
    "def E_deb(word):\n",
    "    return get_new_emb(word, netG).squeeze().detach().cpu().numpy()"
   ]
  },
  {
   "cell_type": "code",
   "execution_count": 64,
   "metadata": {},
   "outputs": [
    {
     "data": {
      "application/vnd.jupyter.widget-view+json": {
       "model_id": "76abeaebc05e42828f704b3ac5f68881",
       "version_major": 2,
       "version_minor": 0
      },
      "text/plain": [
       "HBox(children=(IntProgress(value=0, max=47705), HTML(value='')))"
      ]
     },
     "metadata": {},
     "output_type": "display_data"
    },
    {
     "name": "stdout",
     "output_type": "stream",
     "text": [
      "\n",
      "0.05725555202486781\n",
      "0.0045502590794699775\n"
     ]
    }
   ],
   "source": [
    "before = 0\n",
    "after = 0\n",
    "for word in tqdm(words):\n",
    "    before += np.abs(E.v(word).dot(g))\n",
    "    after += np.abs(E_deb(word).dot(g))\n",
    "print(before/len(words))    \n",
    "print(after/len(words))    "
   ]
  },
  {
   "cell_type": "markdown",
   "metadata": {},
   "source": [
    "#### As seen above, the average direct bias has reduced significantly, this is a good thing\n",
    "## Now, Some analogies to show gender bias"
   ]
  },
  {
   "cell_type": "code",
   "execution_count": 84,
   "metadata": {},
   "outputs": [
    {
     "data": {
      "text/plain": [
       "['programmer',\n",
       " 'programmers',\n",
       " 'researcher',\n",
       " 'designer',\n",
       " 'educator',\n",
       " 'computer',\n",
       " 'freelance',\n",
       " 'animator',\n",
       " 'writer',\n",
       " 'developer',\n",
       " 'editor',\n",
       " 'businesswoman',\n",
       " 'compiler',\n",
       " 'librarian',\n",
       " 'interpreter',\n",
       " 'translator',\n",
       " 'blogger',\n",
       " 'analyst',\n",
       " 'organizer',\n",
       " 'software']"
      ]
     },
     "execution_count": 84,
     "metadata": {},
     "output_type": "execute_result"
    }
   ],
   "source": [
    "# Original embeddings\n",
    "A = E.v(\"man\")\n",
    "B = E.v(\"woman\")\n",
    "C = E.v(\"programmer\")\n",
    "\n",
    "V = B + C - A\n",
    "\n",
    "find_closest(V, 20)"
   ]
  },
  {
   "cell_type": "code",
   "execution_count": 82,
   "metadata": {},
   "outputs": [
    {
     "data": {
      "text/plain": [
       "['programmer',\n",
       " 'programmers',\n",
       " 'researcher',\n",
       " 'designer',\n",
       " 'computer',\n",
       " 'educator',\n",
       " 'animator',\n",
       " 'developer',\n",
       " 'writer',\n",
       " 'editor',\n",
       " 'freelance',\n",
       " 'compiler',\n",
       " 'librarian',\n",
       " 'interpreter',\n",
       " 'organizer',\n",
       " 'translator',\n",
       " 'analyst',\n",
       " 'software',\n",
       " 'user',\n",
       " 'author']"
      ]
     },
     "execution_count": 82,
     "metadata": {},
     "output_type": "execute_result"
    }
   ],
   "source": [
    "# Out debiased embeddings\n",
    "A = E_deb(\"man\")\n",
    "B = E_deb(\"woman\")\n",
    "C = E_deb(\"programmer\")\n",
    "\n",
    "V = B + C - A\n",
    "\n",
    "find_closest(V, 20)"
   ]
  },
  {
   "cell_type": "code",
   "execution_count": 70,
   "metadata": {},
   "outputs": [
    {
     "data": {
      "text/plain": [
       "-0.9969274"
      ]
     },
     "execution_count": 70,
     "metadata": {},
     "output_type": "execute_result"
    }
   ],
   "source": [
    "E_deb(\"programmer\").dot(E.v(\"programmer\"))"
   ]
  },
  {
   "cell_type": "code",
   "execution_count": 72,
   "metadata": {},
   "outputs": [
    {
     "data": {
      "text/plain": [
       "-0.05422006"
      ]
     },
     "execution_count": 72,
     "metadata": {},
     "output_type": "execute_result"
    }
   ],
   "source": [
    "E.v(\"programmer\").dot(g)"
   ]
  },
  {
   "cell_type": "code",
   "execution_count": 71,
   "metadata": {},
   "outputs": [
    {
     "data": {
      "text/plain": [
       "0.003285324"
      ]
     },
     "execution_count": 71,
     "metadata": {},
     "output_type": "execute_result"
    }
   ],
   "source": [
    "E_deb(\"programmer\").dot(g)"
   ]
  },
  {
   "cell_type": "markdown",
   "metadata": {},
   "source": [
    "### Some analogies to show meaning"
   ]
  },
  {
   "cell_type": "code",
   "execution_count": 76,
   "metadata": {},
   "outputs": [
    {
     "data": {
      "text/plain": [
       "['pizza',\n",
       " 'japan',\n",
       " 'sushi',\n",
       " 'domino',\n",
       " 'japanese',\n",
       " 'pasta',\n",
       " 'kfc',\n",
       " 'sandwiches',\n",
       " 'restaurant',\n",
       " 'pizzas']"
      ]
     },
     "execution_count": 76,
     "metadata": {},
     "output_type": "execute_result"
    }
   ],
   "source": [
    "# Original embeddings\n",
    "A = E.v(\"usa\")\n",
    "B = E.v(\"pizza\")\n",
    "C = E.v(\"japan\")\n",
    "\n",
    "V = B + C - A\n",
    "\n",
    "find_closest(V, 10)"
   ]
  },
  {
   "cell_type": "code",
   "execution_count": 77,
   "metadata": {},
   "outputs": [
    {
     "data": {
      "text/plain": [
       "['pizza',\n",
       " 'sushi',\n",
       " 'japan',\n",
       " 'pasta',\n",
       " 'domino',\n",
       " 'japanese',\n",
       " 'sandwiches',\n",
       " 'kfc',\n",
       " 'restaurant',\n",
       " 'hokkaido']"
      ]
     },
     "execution_count": 77,
     "metadata": {},
     "output_type": "execute_result"
    }
   ],
   "source": [
    "# Out debiased embeddings\n",
    "A = E_deb(\"usa\")\n",
    "B = E_deb(\"pizza\")\n",
    "C = E_deb(\"japan\")\n",
    "\n",
    "V = B + C - A\n",
    "\n",
    "find_closest(V, 10)"
   ]
  },
  {
   "cell_type": "code",
   "execution_count": 78,
   "metadata": {},
   "outputs": [
    {
     "data": {
      "text/plain": [
       "['sky',\n",
       " 'green',\n",
       " 'blue',\n",
       " 'bright',\n",
       " 'red',\n",
       " 'dark',\n",
       " 'star',\n",
       " 'colour',\n",
       " 'yellow',\n",
       " 'light']"
      ]
     },
     "execution_count": 78,
     "metadata": {},
     "output_type": "execute_result"
    }
   ],
   "source": [
    "# Original embeddings\n",
    "A = E.v(\"grass\")\n",
    "B = E.v(\"green\")\n",
    "C = E.v(\"sky\")\n",
    "\n",
    "\n",
    "V = B + C - A\n",
    "\n",
    "find_closest(V, 10)"
   ]
  },
  {
   "cell_type": "code",
   "execution_count": 79,
   "metadata": {},
   "outputs": [
    {
     "data": {
      "text/plain": [
       "['sky',\n",
       " 'green',\n",
       " 'blue',\n",
       " 'bright',\n",
       " 'red',\n",
       " 'dark',\n",
       " 'star',\n",
       " 'colour',\n",
       " 'light',\n",
       " 'yellow']"
      ]
     },
     "execution_count": 79,
     "metadata": {},
     "output_type": "execute_result"
    }
   ],
   "source": [
    "# Out debiased embeddings\n",
    "A = E_deb(\"grass\")\n",
    "B = E_deb(\"green\")\n",
    "C = E_deb(\"sky\")\n",
    "\n",
    "V = B + C - A\n",
    "\n",
    "find_closest(V, 10)"
   ]
  },
  {
   "cell_type": "markdown",
   "metadata": {},
   "source": [
    "# Debias all words\n",
    ":( Cuda memory error"
   ]
  },
  {
   "cell_type": "code",
   "execution_count": 37,
   "metadata": {},
   "outputs": [],
   "source": [
    "# This gives a CUDA memory error, I need a better GPU :( :( :( :( :( :( :( :( \n",
    "# z = torch.randn(3000000, nz, device=device)\n",
    "# netG(z, E.vectors)"
   ]
  },
  {
   "cell_type": "markdown",
   "metadata": {},
   "source": [
    "# Save limited word embeddings"
   ]
  },
  {
   "cell_type": "code",
   "execution_count": 38,
   "metadata": {},
   "outputs": [
    {
     "data": {
      "application/vnd.jupyter.widget-view+json": {
       "model_id": "dde3eff9dbbe4182b11b93815815b06e",
       "version_major": 2,
       "version_minor": 0
      },
      "text/plain": [
       "HBox(children=(IntProgress(value=0, max=47690), HTML(value='')))"
      ]
     },
     "metadata": {},
     "output_type": "display_data"
    }
   ],
   "source": [
    "debs = {}\n",
    "for word in tqdm(words):\n",
    "    debs[word] = E_deb(word)"
   ]
  },
  {
   "cell_type": "code",
   "execution_count": 39,
   "metadata": {},
   "outputs": [],
   "source": [
    "import pickle\n",
    "\n",
    "with open(\"GloVe_dev.dict.pickle\", 'wb') as handle:\n",
    "    pickle.dump(debs, handle)"
   ]
  }
 ],
 "metadata": {
  "kernelspec": {
   "display_name": "Python 3",
   "language": "python",
   "name": "python3"
  },
  "language_info": {
   "codemirror_mode": {
    "name": "ipython",
    "version": 3
   },
   "file_extension": ".py",
   "mimetype": "text/x-python",
   "name": "python",
   "nbconvert_exporter": "python",
   "pygments_lexer": "ipython3",
   "version": "3.7.3"
  }
 },
 "nbformat": 4,
 "nbformat_minor": 2
}
